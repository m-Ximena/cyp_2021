{
  "nbformat": 4,
  "nbformat_minor": 0,
  "metadata": {
    "colab": {
      "name": "Tarea 7.ipynb",
      "provenance": [],
      "authorship_tag": "ABX9TyNRZuOnpDHtuOLamonRcW44",
      "include_colab_link": true
    },
    "kernelspec": {
      "name": "python3",
      "display_name": "Python 3"
    }
  },
  "cells": [
    {
      "cell_type": "markdown",
      "metadata": {
        "id": "view-in-github",
        "colab_type": "text"
      },
      "source": [
        "<a href=\"https://colab.research.google.com/github/m-Ximena/cyp_2021/blob/main/Tarea_7.ipynb\" target=\"_parent\"><img src=\"https://colab.research.google.com/assets/colab-badge.svg\" alt=\"Open In Colab\"/></a>"
      ]
    },
    {
      "cell_type": "code",
      "metadata": {
        "id": "albFnF6I-Swm",
        "colab": {
          "base_uri": "https://localhost:8080/"
        },
        "outputId": "dce3f8f8-1e76-499b-e104-f122a96e96a5"
      },
      "source": [
        "#Problema 4.11\r\n",
        "total=int(input(\"Ingrese el total de paÍses de América del Sur, Centroamérica y Norteamérica: \"))\r\n",
        "tps=int(input(\"Ingrese el número de paÍses de América del Sur: \"))\r\n",
        "tpc=int(input(\"Ingrese el número de paÍses de Centroamérica: \"))\r\n",
        "tpn=int(input(\"Ingrese el número de paÍses de Norteamerica: \"))\r\n",
        "sum=tps+tpc+tpn\r\n",
        "\r\n",
        "if sum==total:\r\n",
        "  sur=[str(0) for x in range(tps)]\r\n",
        "  centro=[str(0) for x in range(tpc)]\r\n",
        "  norte=[str(0) for x in range(tpn)]\r\n",
        "  amarica=[str(0) for x in range(total)]\r\n",
        "  for i in range(tps):\r\n",
        "    sur[i]=str(input(f\"Ingrese el nombre del {i+1}° país de America del Sur:\"))\r\n",
        "\r\n",
        "  for i in range(tpc):\r\n",
        "    centro[i]=str(input(f\"Ingrese el nombre del {i+1}° país de Centroamérica:\"))\r\n",
        "\r\n",
        "  for i in range(tpn):\r\n",
        "    norte[i]=str(input(f\"Ingrese el nombre del {i+1}° país de Norteamérica:\"))\r\n",
        "\r\n",
        "  print(f\"Países de América del sur: {sorted(sur)}\")\r\n",
        "  print(f\"Países de Centroamérica: {sorted(centro)}\")\r\n",
        "  print(f\"Países del Norteamérica: {sorted(norte)}\")\r\n",
        "\r\n",
        "else:\r\n",
        "  print(\"Verifique el número de países ingresados\")\r\n",
        "  "
      ],
      "execution_count": 18,
      "outputs": [
        {
          "output_type": "stream",
          "text": [
            "Ingrese el total de paÍses de América del Sur, Centroamérica y Norteamérica: 6\n",
            "Ingrese el número de paÍses de América del Sur: 2\n",
            "Ingrese el número de paÍses de Centroamérica: 2\n",
            "Ingrese el número de paÍses de Norteamerica: 2\n",
            "Ingrese el nombre del 1° país de America del Sur:Argentina\n",
            "Ingrese el nombre del 2° país de America del Sur:Venezuela\n",
            "Ingrese el nombre del 1° país de Centroamérica:El Salvador\n",
            "Ingrese el nombre del 2° país de Centroamérica:Belice\n",
            "Ingrese el nombre del 1° país de Norteamérica:México\n",
            "Ingrese el nombre del 2° país de Norteamérica:Canadá\n",
            "Países de América del sur: ['Argentina', 'Venezuela']\n",
            "Países de Centroamérica: ['Belice', 'El Salvador']\n",
            "Países del Norteamérica: ['Canadá', 'México']\n"
          ],
          "name": "stdout"
        }
      ]
    }
  ]
}