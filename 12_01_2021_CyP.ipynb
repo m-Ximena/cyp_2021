{
  "nbformat": 4,
  "nbformat_minor": 0,
  "metadata": {
    "colab": {
      "name": "12/01/2021_CyP.ipynb",
      "provenance": [],
      "authorship_tag": "ABX9TyO11IyyTagKDxaG4ebc++Ow",
      "include_colab_link": true
    },
    "kernelspec": {
      "name": "python3",
      "display_name": "Python 3"
    }
  },
  "cells": [
    {
      "cell_type": "markdown",
      "metadata": {
        "id": "view-in-github",
        "colab_type": "text"
      },
      "source": [
        "<a href=\"https://colab.research.google.com/github/m-Ximena/cyp_2021/blob/main/12_01_2021_CyP.ipynb\" target=\"_parent\"><img src=\"https://colab.research.google.com/assets/colab-badge.svg\" alt=\"Open In Colab\"/></a>"
      ]
    },
    {
      "cell_type": "markdown",
      "metadata": {
        "id": "PW1IKN6GvNj2"
      },
      "source": [
        "#Introducción a Python\r\n",
        "\r\n",
        "- Sus origenes son en los 90's por Guido Van R. \r\n",
        "- 2000 Python mejora y tiene mejores  y nuevas caracteristicas\r\n",
        "- En el 2020 deja de ser la version oficial 2.7 y sólo se le dara soporte a Python 3 en adelante.\r\n",
        "\r\n",
        "##Caracteristicas:\r\n",
        "1. Es un lenguaje de proposito general\r\n",
        "1. Lenguaje interpretado y no-compilado \r\n",
        "1. Tipos de datos dinamicos. (númericos, cadena, booleanos, etc.)\r\n",
        "1. Multiplataforma (se puede utilizar en cualquier sistema operativo)\r\n",
        "1. Lenguaje multi-paradigma (Soporta progrmación imperativa, funcional, orientada a objetos)\r\n",
        "1. Código es estructurado por indentación.\r\n",
        "- Dirigido por los principios Zen: Que se quiere lograr con el lenguaje python \r\n",
        "\r\n",
        "###Principios Zen de Python\r\n",
        "- Son las caracteristicas de guian el diseño del leguaje de programación de Python "
      ]
    },
    {
      "cell_type": "code",
      "metadata": {
        "colab": {
          "base_uri": "https://localhost:8080/"
        },
        "id": "g8Re7uf1utDp",
        "outputId": "1467bc63-7902-4522-88b2-789658121e52"
      },
      "source": [
        "#Primer programa de Python \r\n",
        "nombre=\"José\"\r\n",
        "edad=18\r\n",
        "print(\"Hola\",nombre,edad)"
      ],
      "execution_count": 2,
      "outputs": [
        {
          "output_type": "stream",
          "text": [
            "Hola José 18\n"
          ],
          "name": "stdout"
        }
      ]
    },
    {
      "cell_type": "markdown",
      "metadata": {
        "id": "Vy2HnHZ9v177"
      },
      "source": [
        "#La función print()\r\n",
        "Es una de las funciones más empleadas en programación y busca envíar datos a la salida estandar(monitor)\r\n",
        "\r\n",
        "##Forma de uso\r\n",
        "1. Con comas\r\n",
        "1. Con signos +\r\n",
        "1. .format()\r\n",
        "1. el operador f\"\r\n",
        "\r\n",
        "### Con comas\r\n",
        "Contatena los argumentos enviados a print y les agrega un espacio\r\n",
        "\r\n",
        "### Con signos +\r\n",
        "Contatena los valores sin espacio y sin hace conversión de tipos.\r\n",
        "\r\n",
        "### Con la función format()\r\n",
        "Permite darle formato a la salida de la impresión de variables. Emplea la función format de el tipo de dato String. \r\n",
        "\"cadena{}a{}forma{}tear\".format(v1,v2,v3,vn)\r\n",
        "\r\n",
        "Emplea como comodines para sustituir valores los signos {}.\r\n",
        "\r\n",
        "### Con el operador f\"\"\r\n",
        "Es una variante de la forma anterior pero enmascarando la función format(). \r\n",
        "print(f\"dfghj{var1}dfgh{var2}sert{var3}tyuj\")"
      ]
    },
    {
      "cell_type": "code",
      "metadata": {
        "colab": {
          "base_uri": "https://localhost:8080/"
        },
        "id": "Rll2W6fXwrqI",
        "outputId": "39ef8fb3-d8aa-4b24-9735-7456cf826e63"
      },
      "source": [
        "print(\"Hola\",nombre,edad)\r\n",
        "print(\"Hola \" + nombre +\" \" + str(edad))\r\n",
        "#Nombre: José, con una edad de: 18 años. \r\n",
        "print(\"Nombre:\",nombre,\"con una edad de:\",edad,\"años\")\r\n",
        "print(\"Nombre: \" + nombre +  \" \"+ \"con una edad de: \"+ str(edad)+\" años\")\r\n",
        "#Con format()\r\n",
        "print(\"Nombre: {} con una edad de: {} años\".format(nombre,edad))\r\n",
        "#Con el operador f\"\"\r\n",
        "print(f\"Nombre: {nombre} con una edad de: {edad} años\")"
      ],
      "execution_count": 16,
      "outputs": [
        {
          "output_type": "stream",
          "text": [
            "Hola José 18\n",
            "Hola José 18\n",
            "Nombre: José con una edad de: 18 años\n",
            "Nombre: José con una edad de: 18 años\n",
            "Nombre: José con una edad de: 18 años\n",
            "Nombre: José con una edad de: 18 años\n"
          ],
          "name": "stdout"
        }
      ]
    },
    {
      "cell_type": "markdown",
      "metadata": {
        "id": "eNrpGKX-_eFc"
      },
      "source": [
        "#Función print( ) y los caracteres de escape. \r\n",
        "- \\n salto de línea\r\n",
        "- \\t tabulador\r\n",
        "- \\\\ imprimir la diagonal \\\r\n",
        "- \\' y \\\" \r\n",
        "- \\uxxxx\r\n",
        "- \\uxxxxxxxx"
      ]
    },
    {
      "cell_type": "code",
      "metadata": {
        "colab": {
          "base_uri": "https://localhost:8080/"
        },
        "id": "gQWhHYOqAUvs",
        "outputId": "3efa6879-6a8c-474b-b8e2-1b6347dea480"
      },
      "source": [
        "print('\"')\r\n",
        "print(\"\\\"\")\r\n",
        "print(\"Nombre: José\\n\\tcon una edad \\\\de: 18 años.\")\r\n",
        "#Caracteres unicode \r\n",
        "print(\"Hola \\u2661\")"
      ],
      "execution_count": 20,
      "outputs": [
        {
          "output_type": "stream",
          "text": [
            "\"\n",
            "\"\n",
            "Nombre: José\n",
            "\tcon una edad \\de: 18 años.\n",
            "Hola ♡\n"
          ],
          "name": "stdout"
        }
      ]
    },
    {
      "cell_type": "markdown",
      "metadata": {
        "id": "oSMxrIOsBKXj"
      },
      "source": [
        "#print y salto de línea en el argumento \r\n",
        "print([lista de variables],end=\"\\n\")"
      ]
    },
    {
      "cell_type": "code",
      "metadata": {
        "colab": {
          "base_uri": "https://localhost:8080/"
        },
        "id": "NViEnYqEBhOb",
        "outputId": "aa57a2bc-a56a-4a04-af54-babe7fe2b467"
      },
      "source": [
        "print(\"Hola \", end=\"\\u13CD\")\r\n",
        "print(\"Mundo \", end=\"------\")\r\n",
        "print(\"Fin \", end=\"\\n\")"
      ],
      "execution_count": 22,
      "outputs": [
        {
          "output_type": "stream",
          "text": [
            "Hola ᏍMundo ------Fin \n"
          ],
          "name": "stdout"
        }
      ]
    },
    {
      "cell_type": "markdown",
      "metadata": {
        "id": "7Wy0OiPQCCNV"
      },
      "source": [
        "#Comentarios en Python \r\n",
        "Un comentario en programación, es un texto especial que es ignorado por el interprete o copilador (segun sea el caso) y es empleado para que el progrmador documente sus algoritmos. \r\n",
        "\r\n",
        "Existen de dos tipos: De línea simple y de múltiple línea. \r\n",
        "\r\n",
        "En Python: \r\n",
        "- Línea simple #\r\n",
        "´´´´\r\n",
        "#comentario de línea simple \r\n",
        "\r\n",
        "´´´´\r\n",
        "- Línea múltiple \r\n",
        "´´´´\r\n",
        "\"\"\"\r\n",
        "esto \r\n",
        "es un comentario de\r\n",
        "línea \r\n",
        "múltiple\r\n",
        "\r\n",
        "\"\"\"\r\n",
        "´´´´\r\n"
      ]
    },
    {
      "cell_type": "code",
      "metadata": {
        "colab": {
          "base_uri": "https://localhost:8080/"
        },
        "id": "cz9Bf_LhDju5",
        "outputId": "053b188f-058a-4fc5-d6fc-2a9723ae07b5"
      },
      "source": [
        "print(\"Hola\")\r\n",
        "#print(\"Hola\")\r\n",
        "# Cualquier cosa\r\n",
        "print(\"Hola\")\r\n",
        "print(\"Hola\")#esta línea imprime hola\r\n",
        "print(\"Hola\")\r\n",
        "\"\"\"\r\n",
        "esto es \r\n",
        "un comentario de múltiple línea. Ideal \r\n",
        "para cuando se desea explicar algo a fondo que requiera mayor detalle.\r\n",
        "\r\n",
        "\"\"\"\r\n",
        "print(\"Hola\")\r\n",
        "print(\"Hola\")\r\n",
        "print(\"Hola\")"
      ],
      "execution_count": 23,
      "outputs": [
        {
          "output_type": "stream",
          "text": [
            "Hola\n",
            "Hola\n",
            "Hola\n",
            "Hola\n",
            "Hola\n",
            "Hola\n",
            "Hola\n"
          ],
          "name": "stdout"
        }
      ]
    }
  ]
}