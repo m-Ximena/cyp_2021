{
  "nbformat": 4,
  "nbformat_minor": 0,
  "metadata": {
    "colab": {
      "name": "Tarea_4.ipynb",
      "provenance": [],
      "authorship_tag": "ABX9TyM6satr6t8HqM0ITmKkC9rn",
      "include_colab_link": true
    },
    "kernelspec": {
      "name": "python3",
      "display_name": "Python 3"
    }
  },
  "cells": [
    {
      "cell_type": "markdown",
      "metadata": {
        "id": "view-in-github",
        "colab_type": "text"
      },
      "source": [
        "<a href=\"https://colab.research.google.com/github/m-Ximena/cyp_2021/blob/main/Tarea_4.ipynb\" target=\"_parent\"><img src=\"https://colab.research.google.com/assets/colab-badge.svg\" alt=\"Open In Colab\"/></a>"
      ]
    },
    {
      "cell_type": "code",
      "metadata": {
        "colab": {
          "base_uri": "https://localhost:8080/"
        },
        "id": "XuH-Vy--P0oV",
        "outputId": "2c997fb1-f77d-4e27-f43d-e7f0003aabbf"
      },
      "source": [
        "#Ejemplo 2.4\n",
        "sue=float(input(\"Ingrese el sueldo del trabajador = $\"))\n",
        "\n",
        "if(sue<1000):\n",
        "  aum15=sue*0.15\n",
        "  nsue=sue+aum15\n",
        "  print(\"El nuevo sueldo del trabajador es $\",nsue)\n",
        "\n",
        "else:\n",
        "  aum12=sue*0.12\n",
        "  nsue=sue+aum12\n",
        "  print(\"El nuevo sueldo del trabajador es $\",nsue)\n"
      ],
      "execution_count": 8,
      "outputs": [
        {
          "output_type": "stream",
          "text": [
            "Ingrese el sueldo del trabajador = $840.50\n",
            "El nuevo sueldo del trabajador es $ 966.575\n"
          ],
          "name": "stdout"
        }
      ]
    },
    {
      "cell_type": "code",
      "metadata": {
        "colab": {
          "base_uri": "https://localhost:8080/"
        },
        "id": "g4uNcC_jVhz1",
        "outputId": "ef7b6d60-8eb3-41d7-d5f3-0d81abd99f8e"
      },
      "source": [
        "#Ejemplo 2.8\n",
        "cat=int(input(\"Ingrese la categoría del trabajador (1,2,3,4) = \"))\n",
        "sue=float(input(\"Ingrese el sueldo del trabajador = $\"))\n",
        "\n",
        "if(cat==1):\n",
        "  aum15=sue*0.15\n",
        "  nsue=sue+aum15\n",
        "  print(\"La categoría del trabajador es\",cat,\"por lo tanto su nuevo sueldo es $\",nsue)\n",
        "\n",
        "elif(cat==2):\n",
        "  aum10=sue*0.10\n",
        "  nsue=sue+aum10\n",
        "  print(\"La categoría del trabajador es\",cat,\"por lo tanto su nuevo sueldo es $\",nsue)\n",
        "\n",
        "elif(cat==3):\n",
        "  aum8=sue*0.08\n",
        "  nsue=sue+aum8\n",
        "  print(\"La categoría del trabajador es\",cat,\"por lo tanto su nuevo sueldo es $\",nsue)\n",
        "\n",
        "else:\n",
        "  aum7=sue*0.07\n",
        "  nsue=sue+aum7\n",
        "  print(\"La categoría del trabajador es\",cat,\"por lo tanto su nuevo sueldo es $\",nsue)\n",
        "\n"
      ],
      "execution_count": 16,
      "outputs": [
        {
          "output_type": "stream",
          "text": [
            "Ingrese la categoría del trabajador (1,2,3,4) = 3\n",
            "Ingrese el sueldo del trabajador = $4100\n",
            "La categoría del trabajador es 3 por lo tanto su nuevo sueldo es $ 4428.0\n"
          ],
          "name": "stdout"
        }
      ]
    }
  ]
}