{
  "nbformat": 4,
  "nbformat_minor": 0,
  "metadata": {
    "colab": {
      "name": "Tarea 5.ipynb",
      "provenance": [],
      "authorship_tag": "ABX9TyNsnx1vWE4yGe/HmrviHngv",
      "include_colab_link": true
    },
    "kernelspec": {
      "name": "python3",
      "display_name": "Python 3"
    }
  },
  "cells": [
    {
      "cell_type": "markdown",
      "metadata": {
        "id": "view-in-github",
        "colab_type": "text"
      },
      "source": [
        "<a href=\"https://colab.research.google.com/github/m-Ximena/cyp_2021/blob/main/Tarea_5.ipynb\" target=\"_parent\"><img src=\"https://colab.research.google.com/assets/colab-badge.svg\" alt=\"Open In Colab\"/></a>"
      ]
    },
    {
      "cell_type": "code",
      "metadata": {
        "colab": {
          "base_uri": "https://localhost:8080/"
        },
        "id": "mi7QVMnmXyFy",
        "outputId": "efd50200-a520-4930-aa8e-aa48ae5b50cc"
      },
      "source": [
        "#Ejercicio 3.1\n",
        "sue1=float(input(\"Ingrese el salario del primer trabajador = $\"))\n",
        "sue2=float(input(\"Ingrese el salario del segundo trabajador = $\"))\n",
        "sue3=float(input(\"Ingrese el salario del tercero trabajador = $\"))\n",
        "sue4=float(input(\"Ingrese el salario del cuarto trabajador = $\"))\n",
        "sue5=float(input(\"Ingrese el salario del quinto trabajador = $\"))\n",
        "sue6=float(input(\"Ingrese el salario del sexto trabajador = $\"))\n",
        "sue7=float(input(\"Ingrese el salario del séptimo trabajador = $\"))\n",
        "sue8=float(input(\"Ingrese el salario del octavo trabajador = $\"))\n",
        "sue9=float(input(\"Ingrese el salario del noveno trabajador = $\"))\n",
        "sue10=float(input(\"Ingrese el salario del décimo trabajador = $\"))\n",
        "\n",
        "total=sue1+sue2+sue3+sue4+sue5+sue6+sue7+sue8+sue9+sue10\n",
        "\n",
        "print(\"El total de nómina es $\",total)"
      ],
      "execution_count": 52,
      "outputs": [
        {
          "output_type": "stream",
          "text": [
            "Ingrese el salario del primer trabajador = $2345\n",
            "Ingrese el salario del segundo trabajador = $2346\n",
            "Ingrese el salario del tercero trabajador = $1234\n",
            "Ingrese el salario del cuarto trabajador = $1567\n",
            "Ingrese el salario del quinto trabajador = $4567\n",
            "Ingrese el salario del sexto trabajador = $2348\n",
            "Ingrese el salario del séptimo trabajador = $4567\n",
            "Ingrese el salario del octavo trabajador = $5678\n",
            "Ingrese el salario del noveno trabajador = $23456\n",
            "Ingrese el salario del décimo trabajador = $2345\n",
            "El total de nómina es $ 50453.0\n"
          ],
          "name": "stdout"
        }
      ]
    },
    {
      "cell_type": "code",
      "metadata": {
        "colab": {
          "base_uri": "https://localhost:8080/"
        },
        "id": "1fJpj0S8wbbw",
        "outputId": "1798dbf2-710a-4015-8225-8336c46da4ce"
      },
      "source": [
        "#Ejercicio 3.4\n",
        "sumagas=0\n",
        "gasto=0\n",
        "print(\"Suma de gastos del viaje\")\n",
        "while gasto>-1:\n",
        "  gasto=float(input(\"Introduce uno de los gastos hecho en el viaje = $\"))\n",
        "  sumagas=sumagas+gasto\n",
        "  s=sumagas+1\n",
        "\n",
        "print(\"El total de los gastos hechos en el viaje son $\",s)"
      ],
      "execution_count": 130,
      "outputs": [
        {
          "output_type": "stream",
          "text": [
            "Suma de gastos del viaje\n",
            "Introduce uno de los gastos hecho en el viaje = $2528\n",
            "Introduce uno de los gastos hecho en el viaje = $3500\n",
            "Introduce uno de los gastos hecho en el viaje = $1600\n",
            "Introduce uno de los gastos hecho en el viaje = $1850\n",
            "Introduce uno de los gastos hecho en el viaje = $150\n",
            "Introduce uno de los gastos hecho en el viaje = $-1\n",
            "El total de los gastos hechos en el viaje son $ 9628.0\n"
          ],
          "name": "stdout"
        }
      ]
    }
  ]
}