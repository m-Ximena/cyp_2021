{
  "nbformat": 4,
  "nbformat_minor": 0,
  "metadata": {
    "colab": {
      "name": "CyP 19/11/2020.ipynb",
      "provenance": [],
      "authorship_tag": "ABX9TyNEJAOVs6dzu5qdNE6gteUD",
      "include_colab_link": true
    },
    "kernelspec": {
      "name": "python3",
      "display_name": "Python 3"
    }
  },
  "cells": [
    {
      "cell_type": "markdown",
      "metadata": {
        "id": "view-in-github",
        "colab_type": "text"
      },
      "source": [
        "<a href=\"https://colab.research.google.com/github/m-Ximena/cyp_2021/blob/main/CyP_19_11_2020.ipynb\" target=\"_parent\"><img src=\"https://colab.research.google.com/assets/colab-badge.svg\" alt=\"Open In Colab\"/></a>"
      ]
    },
    {
      "cell_type": "code",
      "metadata": {
        "colab": {
          "base_uri": "https://localhost:8080/"
        },
        "id": "BcC5VBQFg8X6",
        "outputId": "ad9624de-77b6-4238-c07a-075fc12a87a1"
      },
      "source": [
        "#El concepto de asignación, derecha a izquierda \n",
        "I = 0 \n",
        "I = I + 1 \n",
        "I = I + 1 \n",
        "print(f\"I= { I }\")\n",
        "J = 5**2/3\n",
        "print(f\"J= {J}\")"
      ],
      "execution_count": 3,
      "outputs": [
        {
          "output_type": "stream",
          "text": [
            "I= 2\n",
            "J= 8.333333333333334\n"
          ],
          "name": "stdout"
        }
      ]
    },
    {
      "cell_type": "code",
      "metadata": {
        "colab": {
          "base_uri": "https://localhost:8080/"
        },
        "id": "KRGII76TmyQE",
        "outputId": "c074965e-892f-43aa-a895-cddc8b690a3f"
      },
      "source": [
        "#Declaración de variables (reservando memoria). Ejemplo 1.6\n",
        "A= 0 \n",
        "B= 0 \n",
        "C= 0 \n",
        "D= 0 \n",
        "\n",
        "A= int(input(\"Dame un valor entero \"))\n",
        "B= int(input(\"Dame un valor entero \"))\n",
        "C= int(input(\"Dame un valor entero \"))\n",
        "D= int(input(\"Dame un valor entero \"))\n",
        "\n",
        "print(D)\n",
        "print(C)\n",
        "print(B)\n",
        "print(A)"
      ],
      "execution_count": 7,
      "outputs": [
        {
          "output_type": "stream",
          "text": [
            "Dame un valor entero 67\n",
            "Dame un valor entero 23\n",
            "Dame un valor entero 89\n",
            "Dame un valor entero 45\n",
            "45\n",
            "89\n",
            "23\n",
            "67\n"
          ],
          "name": "stdout"
        }
      ]
    },
    {
      "cell_type": "code",
      "metadata": {
        "colab": {
          "base_uri": "https://localhost:8080/"
        },
        "id": "d--aKvEzpLb-",
        "outputId": "5ec3a4f6-9de1-4303-c4a4-7b618ab6d0db"
      },
      "source": [
        "#Ejemplo 1.7 \n",
        "A= 0 \n",
        "B= 0 \n",
        "RES= 0\n",
        "A= int(input(\"Dame un entero= \"))\n",
        "B= int(input(\"Dame otro entero= \"))\n",
        "RES= (A+B)**2/3\n",
        "print(RES)"
      ],
      "execution_count": 14,
      "outputs": [
        {
          "output_type": "stream",
          "text": [
            "Dame un entero= 14\n",
            "Dame otro entero= -5\n",
            "27.0\n"
          ],
          "name": "stdout"
        }
      ]
    },
    {
      "cell_type": "code",
      "metadata": {
        "colab": {
          "base_uri": "https://localhost:8080/"
        },
        "id": "ZfDDgaTluO8R",
        "outputId": "a87fbd7e-d9de-4c74-e49f-ab66741a61a5"
      },
      "source": [
        "#Ejemplo 1.8\n",
        "MAT= 0 \n",
        "CAL1= 0 \n",
        "CAL2=0\n",
        "CAL3=0\n",
        "CAL4=0\n",
        "CAL5=0 \n",
        "PRO=0\n",
        "MAT= int(input(\"Dame la matricula = \"))\n",
        "CAL1= float(input(\"Dame la calificación 1 = \"))\n",
        "CAL2= float(input(\"Dame la calificación 2 = \"))\n",
        "CAL3= float(input(\"Dame la calificación 3 = \"))\n",
        "CAL4= float(input(\"Dame la calificación 4 = \"))\n",
        "CAL5= float(input(\"Dame la calificación 5 = \"))\n",
        "PRO= (CAL1+CAL2+CAL3+CAL4+CAL5)/5\n",
        "print(f\"La matricula es = {MAT}\")\n",
        "print(f\"El promedio es = {PRO}\")\n",
        "\n"
      ],
      "execution_count": 19,
      "outputs": [
        {
          "output_type": "stream",
          "text": [
            "Dame la matricula = 31834441\n",
            "Dame la calificación 1 = 8\n",
            "Dame la calificación 2 = 8.5\n",
            "Dame la calificación 3 = 9\n",
            "Dame la calificación 4 = 7\n",
            "Dame la calificación 5 = 6\n",
            "La matricula es = 31834441\n",
            "El promedio es = 7.7\n"
          ],
          "name": "stdout"
        }
      ]
    },
    {
      "cell_type": "code",
      "metadata": {
        "colab": {
          "base_uri": "https://localhost:8080/"
        },
        "id": "xj2RZZnTyCVy",
        "outputId": "758617d7-25a2-4a84-a2e8-a2c4a2296d3c"
      },
      "source": [
        "#Ejemplo 1.9 \n",
        "NUM= 0 \n",
        "CUA=0\n",
        "CUB=0\n",
        "NUM= int((input(\"Dame un número entero = \")))\n",
        "CUA=NUM*NUM\n",
        "CUB=NUM**3\n",
        "print((f\"El cuadrado del número es = {CUA}\"))\n",
        "print((f\"El cubo del número es = {CUB}\"))"
      ],
      "execution_count": 22,
      "outputs": [
        {
          "output_type": "stream",
          "text": [
            "Dame un número entero = 7\n",
            "El cuadrado del número es = 49\n",
            "El cubo del número es = 343\n"
          ],
          "name": "stdout"
        }
      ]
    },
    {
      "cell_type": "code",
      "metadata": {
        "colab": {
          "base_uri": "https://localhost:8080/"
        },
        "id": "PK_73U-FzSOO",
        "outputId": "8b9cf46e-bc6c-41fe-86ee-291c7211c403"
      },
      "source": [
        "#Ejemplo 1.10 \n",
        "BASE=0\n",
        "ALTURA=0\n",
        "SUP=0\n",
        "PER=0\n",
        "BASE=float(input(\"Dame la base del rectangulo = \"))\n",
        "ALTURA=float(input(\"Dame la altura del rectangulo = \"))\n",
        "SUP= BASE*ALTURA\n",
        "PER=2*(BASE+ALTURA)\n",
        "print(f\"La superficie del rectangulo es = {SUP}\")\n",
        "print(f\"El perimetro del rectangulo es = {PER}\")\n"
      ],
      "execution_count": 30,
      "outputs": [
        {
          "output_type": "stream",
          "text": [
            "Dame la base del rectangulo = 8.5\n",
            "Dame la altura del rectangulo = 6.2\n",
            "La superficie del rectangulo es = 52.7\n",
            "El perimetro del rectangulo es = 29.4\n"
          ],
          "name": "stdout"
        }
      ]
    }
  ]
}