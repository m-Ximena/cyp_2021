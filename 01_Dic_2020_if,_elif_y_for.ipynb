{
  "nbformat": 4,
  "nbformat_minor": 0,
  "metadata": {
    "colab": {
      "name": "1/Dic/2020 if, elif y for.ipynb",
      "provenance": [],
      "authorship_tag": "ABX9TyMCIRoiWwLVLFO0AdemkyDJ",
      "include_colab_link": true
    },
    "kernelspec": {
      "name": "python3",
      "display_name": "Python 3"
    }
  },
  "cells": [
    {
      "cell_type": "markdown",
      "metadata": {
        "id": "view-in-github",
        "colab_type": "text"
      },
      "source": [
        "<a href=\"https://colab.research.google.com/github/m-Ximena/cyp_2021/blob/main/01_Dic_2020_if%2C_elif_y_for.ipynb\" target=\"_parent\"><img src=\"https://colab.research.google.com/assets/colab-badge.svg\" alt=\"Open In Colab\"/></a>"
      ]
    },
    {
      "cell_type": "code",
      "metadata": {
        "colab": {
          "base_uri": "https://localhost:8080/"
        },
        "id": "97n7ozE2TFqq",
        "outputId": "d9e0e5fe-0679-4430-adf6-cf6518d67c24"
      },
      "source": [
        "#Ejemplo 1 \n",
        "#Pedir 3 números enteros y mostrar el mayor de los tres \n",
        "numero1=int(input(\"Introduce el primer número: \"))\n",
        "numero2=int(input(\"Introduce el segundo número: \"))\n",
        "numero3=int(input(\"Introduce el tercer número: \"))\n",
        "\n",
        "if numero1 >= numero2 and numero1>=numero3:\n",
        "  print(numero1,\"Es mayor\")\n",
        "\n",
        "if numero2 >= numero1 and numero2>=numero3:\n",
        "  print(numero2,\"Es mayor\")\n",
        "\n",
        "elif numero3 >= numero1 and numero3>=numero2:\n",
        "  print(numero3,\"Es mayor\")\n"
      ],
      "execution_count": 4,
      "outputs": [
        {
          "output_type": "stream",
          "text": [
            "Introduce el primer número: 3\n",
            "Introduce el segundo número: 4\n",
            "Introduce el tercer número: 5\n",
            "5 Es mayor\n"
          ],
          "name": "stdout"
        }
      ]
    },
    {
      "cell_type": "code",
      "metadata": {
        "colab": {
          "base_uri": "https://localhost:8080/"
        },
        "id": "J5-cp9u-VoOo",
        "outputId": "1f20465e-4311-4c26-880e-ddb1ac5a762b"
      },
      "source": [
        "#Ejemplo 2\n",
        "print(\"Ingrese el nombre del trabajador:\")\n",
        "nombre=str(input())\n",
        "\n",
        "print(\"Cuantas horas trabajo en esta semana\",nombre,\":\")\n",
        "horas=input()\n",
        "horas=int(horas)\n",
        "\n",
        "print(\"¿Cúanto se paga por hora?\")\n",
        "sueldoH=input()\n",
        "sueldoH=float(sueldoH)\n",
        "\n",
        "#Evaluar sueldo\n",
        "if(horas<=40):\n",
        "  pago=horas*sueldoH\n",
        "  print(\"El sueldo final de\",nombre,\"es $\",pago)\n",
        "\n",
        "else:\n",
        "  extras=horas-40\n",
        "  pago=40*sueldoH\n",
        "  pagoFinal=pago+(extras*sueldoH*2)\n",
        "  print(\"El sueldo final de\",nombre,\"es $\",pagoFinal)\n",
        "\n"
      ],
      "execution_count": 10,
      "outputs": [
        {
          "output_type": "stream",
          "text": [
            "Ingrese el nombre del trabajador:\n",
            "Mario \n",
            "Cuantas horas trabajo en esta semana Mario  :\n",
            "50\n",
            "¿Cúanto se paga por hora?\n",
            "20\n",
            "El sueldo final de Mario  es $ 1200.0\n"
          ],
          "name": "stdout"
        }
      ]
    },
    {
      "cell_type": "code",
      "metadata": {
        "colab": {
          "base_uri": "https://localhost:8080/"
        },
        "id": "yPk7YT0ZZPR0",
        "outputId": "ad05a379-b03a-4ae3-bbad-6e1b05b13abf"
      },
      "source": [
        "#Ejemplo 3\n",
        "#Calcular el salario semanal de x trabajador\n",
        "#El salario semanal se calcula en base a las horas semanales trabajadas\n",
        "#El pago por hora es variable (se pide por teclado)\n",
        "#Si las horas trabajadas superan las 40 horas, el pago por hora extra es:\n",
        "#Doble en el rango de 41horas a 50horas\n",
        "#Triple en el rango de 51horas a 60 horas\n",
        "#Incentivo de $2000 si rebasa las 60 horas.\n",
        "\n",
        "print(\"Ingrese el nombre del trabajador:\")\n",
        "nombre=str(input())\n",
        "\n",
        "print(\"Cuantas horas trabajo en esta semana\",nombre,\":\")\n",
        "horas=input()\n",
        "horas=int(horas)\n",
        "\n",
        "print(\"¿Cúanto se paga por hora?\")\n",
        "sueldoH=input()\n",
        "sueldoH=float(sueldoH)\n",
        "\n",
        "#Evaluar el sueldo \n",
        "\n",
        "if (horas<=40):\n",
        "  pago=horas*sueldoH\n",
        "  print(\"El sueldo final de\",nombre,\"es $\",pago)\n",
        "\n",
        "elif (horas>40 and horas<=50):\n",
        "  extraDobles=horas-40\n",
        "  print(\"Horas extra dobles:\",extraDobles)\n",
        "  pago=40*sueldoH\n",
        "  print(\"Sueldo base:$\",pago)\n",
        "  pagoDoble= extraDobles*sueldoH*2\n",
        "  print(\"Pago de horas dobles:$\",pagoDoble)\n",
        "  pagoFinal=pago+pagoDoble\n",
        "  print(\"El sueldo final de\",nombre,\"es $\",pagoFinal)\n",
        "\n",
        "elif (horas >50 and horas<=60):\n",
        "    extraTriples=horas-50\n",
        "    print(\"Horas extra dobles:10\")\n",
        "    print(\"Horas extra triples:\",extraTriples)\n",
        "    pago=40*sueldoH\n",
        "    print(\"Sueldo base:$\",pago)\n",
        "    pagoDoble=10*sueldoH*2\n",
        "    print(\"Pago de horas extra doble:$\",pagoDoble)\n",
        "    pagoTriple=extraTriples*sueldoH*3\n",
        "    print(\"Pago de horas extra triple:$\",pagoTriple)\n",
        "    pagoFinal=pago+pagoDoble+pagoTriple\n",
        "    print(\"El sueldo final de\",nombre,\"es $\",pagoFinal)\n",
        "\n",
        "else:\n",
        "  extrasTriple=10\n",
        "  print(\"Horas extra dobles: 10\")\n",
        "  print(\"Horas extra triple: 10\")\n",
        "  pago=40*sueldoH\n",
        "  print(\"Sueldo base:$\",pago)\n",
        "  pagoDoble=10*sueldoH*2\n",
        "  print(\"Pago de horas extra dobles:$\",pagoDoble)\n",
        "  pagoTriple=extrasTriple*sueldoH*3\n",
        "  print(\"Pago de horas extras triples:$\",pagoTriple)\n",
        "  print(\"Incentivo por trabajar más de 60 horas: $2000\")\n",
        "  pagoFinal=pago+pagoDoble+pagoTriple+2000\n",
        "  print(\"El sueldo final de\",nombre,\"es $\",pagoFinal)\n"
      ],
      "execution_count": 27,
      "outputs": [
        {
          "output_type": "stream",
          "text": [
            "Ingrese el nombre del trabajador:\n",
            "Veronica \n",
            "Cuantas horas trabajo en esta semana Veronica  :\n",
            "51\n",
            "¿Cúanto se paga por hora?\n",
            "100\n",
            "Horas extra dobles:10\n",
            "Horas extra triples: 1\n",
            "Sueldo base:$ 4000.0\n",
            "Pago de horas extra doble:$ 2000.0\n",
            "Pago de horas extra triple:$ 300.0\n",
            "El sueldo final de Veronica  es $ 6300.0\n"
          ],
          "name": "stdout"
        }
      ]
    },
    {
      "cell_type": "code",
      "metadata": {
        "colab": {
          "base_uri": "https://localhost:8080/"
        },
        "id": "rqSEaTImn6oe",
        "outputId": "42d53495-315f-4771-8579-a5974258ff48"
      },
      "source": [
        "#Estructura FOR\n",
        "#Ejemplo 1\n",
        "for estaciones_año in [\"primavera\",\"verano\",\"otoño\",\"invierno\",\"Venus\"]: #\"in\" es una palabra reservada, elemento a recorrer \n",
        "  print(estaciones_año)\n",
        "\n",
        "  #Variables que suelen formar parte de FOR son \"i\""
      ],
      "execution_count": 35,
      "outputs": [
        {
          "output_type": "stream",
          "text": [
            "primavera\n",
            "verano\n",
            "otoño\n",
            "invierno\n",
            "Venus\n"
          ],
          "name": "stdout"
        }
      ]
    },
    {
      "cell_type": "code",
      "metadata": {
        "colab": {
          "base_uri": "https://localhost:8080/"
        },
        "id": "hSRzNsKPtQv6",
        "outputId": "a5c3f873-ae3a-413a-ab59-aac92350e737"
      },
      "source": [
        "#Ejemplo 2\n",
        "for estaciones_año in [\"primavera\",\"verano\",\"otoño\",\"invierno\",\"Venus\"]: \n",
        "  print(\"Hola\")"
      ],
      "execution_count": 36,
      "outputs": [
        {
          "output_type": "stream",
          "text": [
            "Hola\n",
            "Hola\n",
            "Hola\n",
            "Hola\n",
            "Hola\n"
          ],
          "name": "stdout"
        }
      ]
    }
  ]
}