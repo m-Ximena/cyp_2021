{
  "nbformat": 4,
  "nbformat_minor": 0,
  "metadata": {
    "colab": {
      "name": "CyP  if-elif-else 12/11/2020.ipynb",
      "provenance": [],
      "collapsed_sections": [],
      "authorship_tag": "ABX9TyMr2San8v3chlZNEZOaGx4p",
      "include_colab_link": true
    },
    "kernelspec": {
      "name": "python3",
      "display_name": "Python 3"
    }
  },
  "cells": [
    {
      "cell_type": "markdown",
      "metadata": {
        "id": "view-in-github",
        "colab_type": "text"
      },
      "source": [
        "<a href=\"https://colab.research.google.com/github/m-Ximena/cyp_2021/blob/main/CyP_if_elif_else_12_11_2020.ipynb\" target=\"_parent\"><img src=\"https://colab.research.google.com/assets/colab-badge.svg\" alt=\"Open In Colab\"/></a>"
      ]
    },
    {
      "cell_type": "code",
      "metadata": {
        "id": "VXisVYmCcFt3",
        "outputId": "93c68590-e987-49d1-8fa7-1cd53cdaa537",
        "colab": {
          "base_uri": "https://localhost:8080/"
        }
      },
      "source": [
        "#Ejemplo1\n",
        "numero=int (input(\"Dame un número \"))\n",
        "if numero>0:\n",
        "  print(\"El número es positivo\")\n",
        "\n",
        "print(\"Fin del programa\")\n",
        "\n"
      ],
      "execution_count": 1,
      "outputs": [
        {
          "output_type": "stream",
          "text": [
            "Dame un número 3\n",
            "El número es positivo\n",
            "Fin del programa\n"
          ],
          "name": "stdout"
        }
      ]
    },
    {
      "cell_type": "code",
      "metadata": {
        "id": "3YXKLT5BfMSv",
        "outputId": "1303617a-d72b-4e1b-f4fd-21f05491aca9",
        "colab": {
          "base_uri": "https://localhost:8080/"
        }
      },
      "source": [
        "#Ejemplo2\n",
        "numero=int (input(\"Digite un número \"))\n",
        "if numero>0:\n",
        "  print(\"El número es positivo\")\n",
        "else:#sino imprime que es negativo\n",
        "  print(\"El número es negativo\")\n",
        "print(\"Fin del programa\")\n"
      ],
      "execution_count": 2,
      "outputs": [
        {
          "output_type": "stream",
          "text": [
            "Digite un número -17\n",
            "El número es negativo\n",
            "Fin del programa\n"
          ],
          "name": "stdout"
        }
      ]
    },
    {
      "cell_type": "code",
      "metadata": {
        "id": "rXXGB6WfhAMI",
        "outputId": "ce2ecea8-5eac-4bd2-cc2b-4cdb8d6e33c7",
        "colab": {
          "base_uri": "https://localhost:8080/"
        }
      },
      "source": [
        "#Ejemplo3\n",
        "numero=int (input(\"Digite un número \"))\n",
        "if numero>0:\n",
        "  print(\"El número es positivo\")\n",
        "  \n",
        "elif numero==0:\n",
        "  print(\"El número es cero\")\n",
        "\n",
        "else:#sino imprime que es negativo\n",
        "  print(\"El número es negativo\")\n",
        "print(\"Fin del programa\")"
      ],
      "execution_count": 3,
      "outputs": [
        {
          "output_type": "stream",
          "text": [
            "Digite un número 0\n",
            "El número es cero\n",
            "Fin del programa\n"
          ],
          "name": "stdout"
        }
      ]
    }
  ]
}