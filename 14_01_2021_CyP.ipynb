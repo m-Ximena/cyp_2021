{
  "nbformat": 4,
  "nbformat_minor": 0,
  "metadata": {
    "colab": {
      "name": "14/01/2021_CyP.ipynb",
      "provenance": [],
      "authorship_tag": "ABX9TyNXYqPMKw+9qEulgyrwEfzv",
      "include_colab_link": true
    },
    "kernelspec": {
      "name": "python3",
      "display_name": "Python 3"
    }
  },
  "cells": [
    {
      "cell_type": "markdown",
      "metadata": {
        "id": "view-in-github",
        "colab_type": "text"
      },
      "source": [
        "<a href=\"https://colab.research.google.com/github/m-Ximena/cyp_2021/blob/main/14_01_2021_CyP.ipynb\" target=\"_parent\"><img src=\"https://colab.research.google.com/assets/colab-badge.svg\" alt=\"Open In Colab\"/></a>"
      ]
    },
    {
      "cell_type": "markdown",
      "metadata": {
        "id": "XVKAMxhM8aVe"
      },
      "source": [
        "#Palabras reservadas de Python 3\r\n",
        "1. False\r\n",
        "1. None\r\n",
        "1. True\r\n",
        "1. and\r\n",
        "1. as\r\n",
        "1. assert\r\n",
        "1. break\r\n",
        "1. class\r\n",
        "1. continue\r\n",
        "1. def\r\n",
        "1. del\r\n",
        "1. elif\r\n",
        "1. else\r\n",
        "1. except\r\n",
        "1. finally\r\n",
        "1. for\r\n",
        "1. from\r\n",
        "1. global\r\n",
        "1. if\r\n",
        "1. import\r\n",
        "1. in\r\n",
        "1. is\r\n",
        "1. lambda\r\n",
        "1. nonlocal\r\n",
        "1. not\r\n",
        "1. or\r\n",
        "1. pass\r\n",
        "1. raise\r\n",
        "1. return\r\n",
        "1. try\r\n",
        "1. while\r\n",
        "1. with\r\n",
        "1. yield"
      ]
    },
    {
      "cell_type": "code",
      "metadata": {
        "colab": {
          "base_uri": "https://localhost:8080/"
        },
        "id": "dSolMxl-8p7d",
        "outputId": "a4341e37-d994-4c22-8f58-e1dfcc4c3f75"
      },
      "source": [
        "import keyword \r\n",
        "pr=keyword.kwlist\r\n",
        "print( len(pr))\r\n",
        "for palabra in pr:\r\n",
        "  print(\"1.\",palabra)"
      ],
      "execution_count": 3,
      "outputs": [
        {
          "output_type": "stream",
          "text": [
            "33\n",
            "1. False\n",
            "1. None\n",
            "1. True\n",
            "1. and\n",
            "1. as\n",
            "1. assert\n",
            "1. break\n",
            "1. class\n",
            "1. continue\n",
            "1. def\n",
            "1. del\n",
            "1. elif\n",
            "1. else\n",
            "1. except\n",
            "1. finally\n",
            "1. for\n",
            "1. from\n",
            "1. global\n",
            "1. if\n",
            "1. import\n",
            "1. in\n",
            "1. is\n",
            "1. lambda\n",
            "1. nonlocal\n",
            "1. not\n",
            "1. or\n",
            "1. pass\n",
            "1. raise\n",
            "1. return\n",
            "1. try\n",
            "1. while\n",
            "1. with\n",
            "1. yield\n"
          ],
          "name": "stdout"
        }
      ]
    },
    {
      "cell_type": "markdown",
      "metadata": {
        "id": "vnxDAif-_HDn"
      },
      "source": [
        "##Variable \r\n",
        "Es un espacio de memoria de la computadora para almacenar valores que cambian a lo largo de la ejecución del programa. Este espacio de memoria esta referenciado por un identificador, el cual tiene ciertas reglas de nombrado. \r\n",
        "- No puede iniciar con números \r\n",
        "- No debe ser igual a alguna de las palabras reservadas\r\n",
        "- Evitar nombres de variables largos \r\n",
        "- Evitar muy cortos, ejemplo: x ,y ,i \r\n",
        "- Usar notación snake_case\r\n"
      ]
    },
    {
      "cell_type": "code",
      "metadata": {
        "colab": {
          "base_uri": "https://localhost:8080/"
        },
        "id": "KZLaf31uBpoo",
        "outputId": "82805fbc-d306-4fd5-832b-24c66d238249"
      },
      "source": [
        "_2edad=12\r\n",
        "print(_2edad)\r\n",
        "\r\n",
        "\"\"\"\r\n",
        "No se puede usar una palabra reservada como identificador de variable \r\n",
        "\r\n",
        "for = 12 \r\n",
        "print(for)\r\n",
        "\r\n",
        "\"\"\"\r\n",
        "\r\n",
        "_2edad\r\n",
        "dias_de_la_semana= 7\r\n",
        "print(dias_de_la_semana)\r\n",
        "\r\n",
        "diasdelasemana= 7\r\n",
        "print(diasdelasemana)\r\n",
        "\r\n",
        "#Lower camel case \r\n",
        "diasDeLaSemana=7\r\n",
        "\r\n",
        "#Upper camel case \r\n",
        "SemanaSanta=23"
      ],
      "execution_count": 87,
      "outputs": [
        {
          "output_type": "stream",
          "text": [
            "12\n",
            "7\n",
            "7\n"
          ],
          "name": "stdout"
        }
      ]
    },
    {
      "cell_type": "code",
      "metadata": {
        "id": "GgfYaCtYJY0M"
      },
      "source": [
        "\"\"\"\r\n",
        "La notación snake-case consta de formar el identificador de variable separando \r\n",
        "las palabras del mismo con un guión bajo.\r\n",
        "\r\n",
        "Se recomienda que los idenitificadores se escriban en minúscula para las \r\n",
        "variables y en mayúscula para las constantes.\r\n",
        "\r\n",
        "Es decir, si tenemos una variable para los días de la semana, se escribiría así:\r\n",
        "\r\n",
        "dias_de_la_semana= 7\r\n",
        "dias_mes= 31\r\n",
        "limite_maximo = 100\r\n",
        " \r\n",
        "\"\"\""
      ],
      "execution_count": null,
      "outputs": []
    },
    {
      "cell_type": "markdown",
      "metadata": {
        "id": "aBjT0_EE-FQh"
      },
      "source": [
        "#Tipos de datos \r\n",
        "- Númericos\r\n",
        "  - int 4 bytes (1, 3 , 321354 , etc)\r\n",
        "  - float 4 bytes (1.14, 3.1416, 1.0, etc)\r\n",
        "  - long 8 bytes (1, 2,5434, etc)\r\n",
        "  - complex 3+2j (raices negativas)\r\n",
        "\r\n",
        "- Boolean: True False \r\n",
        "\r\n",
        "- String cadenas de caracteres (\"cad\", 'cad' o \"\"\"cad\"\"\") \r\n",
        "\r\n",
        "- Listas ([1,2,3,4] , [a,b,c,1,2,3])\r\n",
        "\r\n",
        "- Tuplas (   (edad,23) , (3,4)   )\r\n",
        "\r\n",
        "- Conjuntos\r\n",
        "\r\n",
        "- Diccionario ( {\"nombre\":\"Juan\"} )"
      ]
    },
    {
      "cell_type": "markdown",
      "metadata": {
        "id": "QbmYzwq5ERTS"
      },
      "source": [
        "#Tipo de dato string\r\n",
        "Este tipo de dato permite almacenar cadenas de caracteres, como por ejemplo: \r\n",
        "\r\n",
        "\r\n",
        "```\r\n",
        "nombre = 'Jesús'\r\n",
        "lugar_nacimiento = \"Mexico D.F., Tacuba\"\r\n",
        "frase_favorita =\"\"\" \r\n",
        "El conocimiento\r\n",
        "me persigue,\r\n",
        "pero...\r\n",
        "yo soy más rápido!!!\r\n",
        ":)\r\n",
        "\"\"\"\r\n",
        "\r\n",
        "\r\n",
        "```"
      ]
    },
    {
      "cell_type": "code",
      "metadata": {
        "colab": {
          "base_uri": "https://localhost:8080/"
        },
        "id": "ySoiLBFEFQ3h",
        "outputId": "f1b87db4-d0c5-4f0b-a1ac-85cdad46d33b"
      },
      "source": [
        "nombre = 'Jesús'\r\n",
        "lugar_nacimiento = \"Mexico D.F., Tacuba\"\r\n",
        "frase_favorita =\"\"\" \r\n",
        "El conocimiento\r\n",
        "me persigue,\r\n",
        "pero...\r\n",
        "yo soy más rápido!!!\r\n",
        ":)\r\n",
        "\"\"\"\r\n",
        "print(nombre)\r\n",
        "print(lugar_nacimiento)\r\n",
        "print(frase_favorita)"
      ],
      "execution_count": 9,
      "outputs": [
        {
          "output_type": "stream",
          "text": [
            "Jesús\n",
            "Mexico D.F., Tacuba\n",
            " \n",
            "El conocimiento\n",
            "me persigue,\n",
            "pero...\n",
            "yo soy más rápido!!!\n",
            ":)\n",
            "\n"
          ],
          "name": "stdout"
        }
      ]
    },
    {
      "cell_type": "markdown",
      "metadata": {
        "id": "JVGtdovNFqFr"
      },
      "source": [
        "#Strings como arreglo \r\n",
        "Un string en python es almacenado como el tipo de dato (estructura de datos) arreglo. \r\n",
        "Por ejemplo la declaración: \r\n",
        "\r\n",
        "\r\n",
        "```\r\n",
        "nombre = 'Jesus'\r\n",
        "```\r\n",
        "El elemento 'J' es almacenado en un arreglo en la posición 0. La 'e' en el 1 y así sucesivamente\r\n",
        "\r\n",
        "###Selector\r\n",
        "La notación para seleccionar un elemnto de un arreglo es: \r\n",
        "\r\n",
        "```\r\n",
        "[ 1 ]\r\n",
        "```\r\n",
        "Donde el valor interno debe ser un valor númerico entero\r\n",
        "\r\n",
        "\r\n"
      ]
    },
    {
      "cell_type": "code",
      "metadata": {
        "colab": {
          "base_uri": "https://localhost:8080/"
        },
        "id": "J-9pXAz8HN0v",
        "outputId": "103cc128-b950-414b-982c-eb75f2df1146"
      },
      "source": [
        "nombre = 'Jesús'\r\n",
        "print(len(nombre))\r\n",
        "print(nombre)\r\n",
        "print(nombre[0])\r\n",
        "print(nombre[3])"
      ],
      "execution_count": 16,
      "outputs": [
        {
          "output_type": "stream",
          "text": [
            "5\n",
            "Jesús\n",
            "J\n",
            "ú\n"
          ],
          "name": "stdout"
        }
      ]
    },
    {
      "cell_type": "markdown",
      "metadata": {
        "id": "3jE22RMnHlLi"
      },
      "source": [
        "##Interar sobre un string \r\n",
        "Se puede interar sobre un string con un for de la forma: \r\n",
        "\r\n",
        "```\r\n",
        "for indice in range (len(nombre)):\r\n",
        "   print(indice)\r\n",
        "\r\n",
        "```\r\n",
        "\r\n"
      ]
    },
    {
      "cell_type": "code",
      "metadata": {
        "colab": {
          "base_uri": "https://localhost:8080/"
        },
        "id": "tAjE9AH0IXpG",
        "outputId": "2a3b7a9a-6b83-48e6-9e55-652c8d49d873"
      },
      "source": [
        "for indice in range (len(nombre)): # 0, 1, 2, 3, 4\r\n",
        "   print(indice, end=\" \")\r\n",
        "   print(nombre[indice])"
      ],
      "execution_count": 17,
      "outputs": [
        {
          "output_type": "stream",
          "text": [
            "0 J\n",
            "1 e\n",
            "2 s\n",
            "3 ú\n",
            "4 s\n"
          ],
          "name": "stdout"
        }
      ]
    },
    {
      "cell_type": "markdown",
      "metadata": {
        "id": "Q23JT0IVKD5d"
      },
      "source": [
        "##Función range (inicio, stop, incremento)\r\n",
        "En inicio es opcional y por defecto tiene el valor 0\r\n",
        "\r\n",
        "El incremento tambien es opcional y por defecto es 1"
      ]
    },
    {
      "cell_type": "code",
      "metadata": {
        "colab": {
          "base_uri": "https://localhost:8080/"
        },
        "id": "EdxrN_iGJ5xf",
        "outputId": "8688acb5-8fa3-4407-ff09-566bfa1a4051"
      },
      "source": [
        "for indice in range ( 1, len(nombre) , 1): \r\n",
        "  print(nombre[indice])"
      ],
      "execution_count": 29,
      "outputs": [
        {
          "output_type": "stream",
          "text": [
            "e\n",
            "s\n",
            "ú\n",
            "s\n"
          ],
          "name": "stdout"
        }
      ]
    },
    {
      "cell_type": "code",
      "metadata": {
        "colab": {
          "base_uri": "https://localhost:8080/"
        },
        "id": "KNYFmqYYLW96",
        "outputId": "b4ad56cb-2a9f-437d-811d-74f6f4c9c182"
      },
      "source": [
        "for indice in range ( 4, -1 , -1): # 4 , 3 , 2 , 1 , 0\r\n",
        "  print(nombre[indice])"
      ],
      "execution_count": 31,
      "outputs": [
        {
          "output_type": "stream",
          "text": [
            "s\n",
            "ú\n",
            "s\n",
            "e\n",
            "J\n"
          ],
          "name": "stdout"
        }
      ]
    },
    {
      "cell_type": "markdown",
      "metadata": {
        "id": "TeXE7ZJhL90H"
      },
      "source": [
        "##Strings e indexado negativo \r\n",
        "En python 3 se agrega una nueva característica a los arreglos de las cadenas de caracteres, esta consta de la capacidad de indexar de forma negativa: \r\n",
        "\r\n",
        "La lógica es la siguiente \r\n",
        "\r\n",
        "El último elemento se le considera como indice (ALTERNATIVO) -1, con lo cual se prodria referenciar al final de la cadena sin la necesidad de saber el tamaño de la misma. \r\n",
        "\r\n",
        "\r\n",
        "\r\n",
        "```\r\n",
        "nombre = 'Ximena'\r\n",
        "```\r\n",
        "indice normal 0   1   2   3   4   5\r\n",
        "\r\n",
        "              X   i   m   e   n   a\r\n",
        "\r\n",
        "indice alter -6  -5  -4  -3  -2  -1\r\n"
      ]
    },
    {
      "cell_type": "code",
      "metadata": {
        "colab": {
          "base_uri": "https://localhost:8080/"
        },
        "id": "WcptoNLNNbgx",
        "outputId": "10e4ad43-9f8b-4125-f7c6-ffc18c95809f"
      },
      "source": [
        "nombre = \"Ximena\"\r\n",
        "print(nombre[5]) #indexado normal\r\n",
        "print(nombre[-1]) #indexado alternativo (negativos)\r\n",
        "print(\"\")\r\n",
        "for indice_alter in range (-1, -7, -1):\r\n",
        "  print(nombre[indice_alter])\r\n",
        "\r\n"
      ],
      "execution_count": 58,
      "outputs": [
        {
          "output_type": "stream",
          "text": [
            "a\n",
            "a\n",
            "\n",
            "a\n",
            "n\n",
            "e\n",
            "m\n",
            "i\n",
            "X\n"
          ],
          "name": "stdout"
        }
      ]
    },
    {
      "cell_type": "markdown",
      "metadata": {
        "id": "j7o90zPpP036"
      },
      "source": [
        "##Slicing de cadena de caracteres.\r\n",
        "Esta característica permite sacar secciones de una cadena con la siguiente sintaxis: \r\n",
        "\r\n",
        "\r\n",
        "\r\n",
        "```\r\n",
        "[inicio : stop : incremento]\r\n",
        "```\r\n",
        "\r\n",
        "Donde inicio e incremento son opcionales y también soportan indexado alternativo (negativo)\r\n"
      ]
    },
    {
      "cell_type": "code",
      "metadata": {
        "colab": {
          "base_uri": "https://localhost:8080/"
        },
        "id": "69l9zO01T7gE",
        "outputId": "c8ba6d7c-8a5f-4e80-abe2-464d85e607aa"
      },
      "source": [
        "facultad = \"Facultad de Estudios Superiores Aragón (La mejor) \"\r\n",
        "print(facultad)\r\n",
        "\r\n",
        "for indice in range( 12, 20, 1):\r\n",
        "  print(facultad[indice] , end=\"\")\r\n",
        "\r\n",
        "# hacer esto mismo con la característica slicing se logra así:\r\n",
        "print(\"\\nCon slicing:\")\r\n",
        "print(facultad[12:20:1])\r\n",
        "\r\n",
        "#la palabra \"de\" con slicing\r\n",
        "print(facultad[9:11:1])"
      ],
      "execution_count": 74,
      "outputs": [
        {
          "output_type": "stream",
          "text": [
            "Facultad de Estudios Superiores Aragón (La mejor) \n",
            "Estudios\n",
            "Con slicing:\n",
            "Estudios\n",
            "de\n"
          ],
          "name": "stdout"
        }
      ]
    }
  ]
}