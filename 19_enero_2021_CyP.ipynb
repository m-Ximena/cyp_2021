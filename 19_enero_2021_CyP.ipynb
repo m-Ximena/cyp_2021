{
  "nbformat": 4,
  "nbformat_minor": 0,
  "metadata": {
    "colab": {
      "name": "19/enero/2021_CyP.ipynb",
      "provenance": [],
      "authorship_tag": "ABX9TyMYlk/hiXvs+i5gD2bSoZQ9",
      "include_colab_link": true
    },
    "kernelspec": {
      "name": "python3",
      "display_name": "Python 3"
    }
  },
  "cells": [
    {
      "cell_type": "markdown",
      "metadata": {
        "id": "view-in-github",
        "colab_type": "text"
      },
      "source": [
        "<a href=\"https://colab.research.google.com/github/m-Ximena/cyp_2021/blob/main/19_enero_2021_CyP.ipynb\" target=\"_parent\"><img src=\"https://colab.research.google.com/assets/colab-badge.svg\" alt=\"Open In Colab\"/></a>"
      ]
    },
    {
      "cell_type": "markdown",
      "metadata": {
        "id": "5qReQkD0q2aD"
      },
      "source": [
        "##Slicing (Continuación) \r\n",
        "\r\n",
        "[ inicio : stop : incremento ]\r\n",
        "\r\n",
        "Notas: \r\n",
        "1. El stop no es incluido.\r\n",
        "1. El incremento no se puede modificar. \r\n",
        "1. Soporta indexado alternativo (negativo) \r\n"
      ]
    },
    {
      "cell_type": "code",
      "metadata": {
        "colab": {
          "base_uri": "https://localhost:8080/"
        },
        "id": "-5qNFdE2rYU_",
        "outputId": "70191e36-3236-4285-cbd9-ec5316b4075e"
      },
      "source": [
        "frase = \"como hacer a la gente mas positiva?, muy facil, has que pierdan un electron!\"\r\n",
        "print(frase)\r\n",
        "# imprimir \"ace\" de la palabra hacer \r\n",
        "print(frase[6:9:1])\r\n",
        "\r\n",
        "#Valores por defecto  \r\n",
        "print(frase[ :5:2])\r\n",
        "\r\n",
        "print(len(frase))\r\n",
        "# Incremento\r\n",
        "print(frase[::2]) # toda la frase\r\n",
        "print(frase[-1::-1]) # inverso -77\r\n",
        "\r\n",
        "nombre=\"Juan José\"\r\n",
        "print(nombre[1::-1])\r\n",
        "\r\n",
        "primer = nombre[:4:]\r\n",
        "print(primer)\r\n",
        "\r\n",
        "print(nombre[-9::1])"
      ],
      "execution_count": 13,
      "outputs": [
        {
          "output_type": "stream",
          "text": [
            "como hacer a la gente mas positiva?, muy facil, has que pierdan un electron!\n",
            "ace\n",
            "cm \n",
            "76\n",
            "cm ae  agnemspstv? u ai,hsqepednu lcrn\n",
            "!nortcele nu nadreip euq sah ,licaf yum ,?avitisop sam etneg al a recah omoc\n",
            "uJ\n",
            "Juan\n",
            "Juan José\n"
          ],
          "name": "stdout"
        }
      ]
    },
    {
      "cell_type": "markdown",
      "metadata": {
        "id": "a0rSFXQexUkS"
      },
      "source": [
        "##Métodos de la clase String (str)\r\n",
        "En python todo es un objeto (P.O.O.), eso significa que cada tipo de dato trae consigo métodos (funciones) incluidas.\r\n",
        "\r\n",
        "Para identificar los métodos disponibles se puede usar una de dos funciones: \r\n",
        "1. dir (str) #Resumen de métodos de la clase\r\n",
        "1. help (str) #información completa de los métodos de esa clase "
      ]
    },
    {
      "cell_type": "code",
      "metadata": {
        "colab": {
          "base_uri": "https://localhost:8080/"
        },
        "id": "AClpRKWsyWl2",
        "outputId": "3dc675a7-60a7-42c4-8a38-fc44240bc2b1"
      },
      "source": [
        "nombre = \"Juan José\"\r\n",
        "print(nombre)\r\n",
        "print(dir(str))\r\n",
        "\r\n",
        "metodos = dir(str)\r\n",
        "for metodos in metodos:\r\n",
        "  print(metodos)"
      ],
      "execution_count": 23,
      "outputs": [
        {
          "output_type": "stream",
          "text": [
            "Juan José\n",
            "['__add__', '__class__', '__contains__', '__delattr__', '__dir__', '__doc__', '__eq__', '__format__', '__ge__', '__getattribute__', '__getitem__', '__getnewargs__', '__gt__', '__hash__', '__init__', '__init_subclass__', '__iter__', '__le__', '__len__', '__lt__', '__mod__', '__mul__', '__ne__', '__new__', '__reduce__', '__reduce_ex__', '__repr__', '__rmod__', '__rmul__', '__setattr__', '__sizeof__', '__str__', '__subclasshook__', 'capitalize', 'casefold', 'center', 'count', 'encode', 'endswith', 'expandtabs', 'find', 'format', 'format_map', 'index', 'isalnum', 'isalpha', 'isdecimal', 'isdigit', 'isidentifier', 'islower', 'isnumeric', 'isprintable', 'isspace', 'istitle', 'isupper', 'join', 'ljust', 'lower', 'lstrip', 'maketrans', 'partition', 'replace', 'rfind', 'rindex', 'rjust', 'rpartition', 'rsplit', 'rstrip', 'split', 'splitlines', 'startswith', 'strip', 'swapcase', 'title', 'translate', 'upper', 'zfill']\n",
            "__add__\n",
            "__class__\n",
            "__contains__\n",
            "__delattr__\n",
            "__dir__\n",
            "__doc__\n",
            "__eq__\n",
            "__format__\n",
            "__ge__\n",
            "__getattribute__\n",
            "__getitem__\n",
            "__getnewargs__\n",
            "__gt__\n",
            "__hash__\n",
            "__init__\n",
            "__init_subclass__\n",
            "__iter__\n",
            "__le__\n",
            "__len__\n",
            "__lt__\n",
            "__mod__\n",
            "__mul__\n",
            "__ne__\n",
            "__new__\n",
            "__reduce__\n",
            "__reduce_ex__\n",
            "__repr__\n",
            "__rmod__\n",
            "__rmul__\n",
            "__setattr__\n",
            "__sizeof__\n",
            "__str__\n",
            "__subclasshook__\n",
            "capitalize\n",
            "casefold\n",
            "center\n",
            "count\n",
            "encode\n",
            "endswith\n",
            "expandtabs\n",
            "find\n",
            "format\n",
            "format_map\n",
            "index\n",
            "isalnum\n",
            "isalpha\n",
            "isdecimal\n",
            "isdigit\n",
            "isidentifier\n",
            "islower\n",
            "isnumeric\n",
            "isprintable\n",
            "isspace\n",
            "istitle\n",
            "isupper\n",
            "join\n",
            "ljust\n",
            "lower\n",
            "lstrip\n",
            "maketrans\n",
            "partition\n",
            "replace\n",
            "rfind\n",
            "rindex\n",
            "rjust\n",
            "rpartition\n",
            "rsplit\n",
            "rstrip\n",
            "split\n",
            "splitlines\n",
            "startswith\n",
            "strip\n",
            "swapcase\n",
            "title\n",
            "translate\n",
            "upper\n",
            "zfill\n"
          ],
          "name": "stdout"
        }
      ]
    },
    {
      "cell_type": "markdown",
      "metadata": {
        "id": "khGlncX_ywCS"
      },
      "source": [
        "Los nombres de métodos que inicia con doble guión bajo, significa que son métodos privados (POO), y no tendrías porque usarlos como programador consumidor.\r\n",
        "\r\n",
        "Los demas métodos son públicos y son de libre uso. "
      ]
    },
    {
      "cell_type": "code",
      "metadata": {
        "colab": {
          "base_uri": "https://localhost:8080/"
        },
        "id": "E9MD30_VzcV0",
        "outputId": "8ea97ecb-500f-4baf-f96e-8c3be95cdf49"
      },
      "source": [
        "print(nombre)\r\n",
        "print(nombre.islower()) #pregunta si la cadena esta en minusculas\r\n",
        "\r\n",
        "nombre = \"PEDRO FERNANDEZ\"\r\n",
        "print(nombre.capitalize())\r\n",
        "\r\n",
        "print(nombre.endswith(\"DEZ\")) # pregunta si termina con DEZ\r\n",
        "\r\n",
        "print(nombre.replace(\"E\",\"*\")) #sustituye en la cadena por otra cosa\r\n",
        "ind_e = nombre.find(\"E\")\r\n",
        "print(ind_e)\r\n",
        "\r\n",
        "print(nombre.replace(\"E\" , \"@\" , 1))\r\n",
        "print(nombre.lower())\r\n",
        "nombre = \"josé\"\r\n",
        "print(nombre.upper())\r\n",
        "nombre = \"josé josé, el principe de la canción\"\r\n",
        "print(nombre.count(\"josé\"))"
      ],
      "execution_count": 50,
      "outputs": [
        {
          "output_type": "stream",
          "text": [
            "josé josé, el principe de la canción\n",
            "True\n",
            "Pedro fernandez\n",
            "True\n",
            "P*DRO F*RNAND*Z\n",
            "1\n",
            "P@DRO FERNANDEZ\n",
            "pedro fernandez\n",
            "JOSÉ\n",
            "2\n"
          ],
          "name": "stdout"
        }
      ]
    },
    {
      "cell_type": "code",
      "metadata": {
        "colab": {
          "base_uri": "https://localhost:8080/"
        },
        "id": "rOuqUEjcz5bY",
        "outputId": "5892cb31-9bff-41a9-a52b-a6d8e9e223b9"
      },
      "source": [
        "print(help(str.find))"
      ],
      "execution_count": 24,
      "outputs": [
        {
          "output_type": "stream",
          "text": [
            "Help on method_descriptor:\n",
            "\n",
            "find(...)\n",
            "    S.find(sub[, start[, end]]) -> int\n",
            "    \n",
            "    Return the lowest index in S where substring sub is found,\n",
            "    such that sub is contained within S[start:end].  Optional\n",
            "    arguments start and end are interpreted as in slice notation.\n",
            "    \n",
            "    Return -1 on failure.\n",
            "\n",
            "None\n"
          ],
          "name": "stdout"
        }
      ]
    },
    {
      "cell_type": "code",
      "metadata": {
        "colab": {
          "base_uri": "https://localhost:8080/"
        },
        "id": "HImXqBwj465V",
        "outputId": "63a1206b-02cd-4319-e3cb-4a5028fee6d8"
      },
      "source": [
        "#Metodos para procesar Strings\r\n",
        "numeros = \" 2 , 1 , 3 ,4,  5   , 45  ,   7    \"\r\n",
        "print(numeros)\r\n",
        "\r\n",
        "#como extraigo los números de la cadena \r\n",
        "# 1. Eliminar los espacios al principio y al final con strip()\r\n",
        "numeros = numeros.strip()\r\n",
        "print(numeros)\r\n",
        "\r\n",
        "#2. separo por comas \r\n",
        "numeros = numeros.split(\",\")\r\n",
        "print(numeros)\r\n",
        "\r\n",
        "#3. Con un for e indices limpiar cadenas de la lista\r\n",
        "for indice in range( len(numeros) ):\r\n",
        "  numeros[indice] = numeros[indice].strip()\r\n",
        "print(numeros)\r\n",
        "\r\n",
        "#4. convertirlo a tipo entero\r\n",
        "for indice in range( len(numeros)):\r\n",
        "  numeros[indice] = int( numeros[indice] )\r\n",
        "print(numeros)\r\n",
        "\r\n",
        "# 5. Usar los números.\r\n",
        "\r\n",
        "\r\n",
        "print(help(str.strip))"
      ],
      "execution_count": 45,
      "outputs": [
        {
          "output_type": "stream",
          "text": [
            " 2 , 1 , 3 ,4,  5   , 45  ,   7    \n",
            "2 , 1 , 3 ,4,  5   , 45  ,   7\n",
            "['2 ', ' 1 ', ' 3 ', '4', '  5   ', ' 45  ', '   7']\n",
            "['2', '1', '3', '4', '5', '45', '7']\n",
            "[2, 1, 3, 4, 5, 45, 7]\n",
            "Help on method_descriptor:\n",
            "\n",
            "strip(...)\n",
            "    S.strip([chars]) -> str\n",
            "    \n",
            "    Return a copy of the string S with leading and trailing\n",
            "    whitespace removed.\n",
            "    If chars is given and not None, remove characters in chars instead.\n",
            "\n",
            "None\n"
          ],
          "name": "stdout"
        }
      ]
    }
  ]
}