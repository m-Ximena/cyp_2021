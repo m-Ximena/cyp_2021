{
  "nbformat": 4,
  "nbformat_minor": 0,
  "metadata": {
    "colab": {
      "name": "CyP 17/11/2020.ipynb",
      "provenance": [],
      "authorship_tag": "ABX9TyMux8k04N96dL55K5dnY3xg",
      "include_colab_link": true
    },
    "kernelspec": {
      "name": "python3",
      "display_name": "Python 3"
    }
  },
  "cells": [
    {
      "cell_type": "markdown",
      "metadata": {
        "id": "view-in-github",
        "colab_type": "text"
      },
      "source": [
        "<a href=\"https://colab.research.google.com/github/m-Ximena/cyp_2021/blob/main/CyP_17_11_2020.ipynb\" target=\"_parent\"><img src=\"https://colab.research.google.com/assets/colab-badge.svg\" alt=\"Open In Colab\"/></a>"
      ]
    },
    {
      "cell_type": "code",
      "metadata": {
        "id": "KgQ6FbT9R-9x",
        "colab": {
          "base_uri": "https://localhost:8080/"
        },
        "outputId": "040f3c06-6d67-4686-f32b-c7aa53231350"
      },
      "source": [
        "edad = 15\n",
        "estatura = 1.67\n",
        "a = 10 \n",
        "b = 3 \n",
        "\n",
        "c = 2 ** b + 2 + 3 + 4\n",
        "print(c)\n",
        "\n",
        "e=estatura*2.00\n",
        "print(e)\n",
        "\n",
        "f=a/b #en python se hace el calculo exacto\n",
        "print(f) # 3.33333\n",
        "\n",
        "g=a//b #tambien podemos fuerzar al calculo de entero \n",
        "print(\"g= \",g)\n",
        "\n",
        "h=a%b\n",
        "print(\"h= \",h)\n",
        "\n",
        "numero=10\n",
        "print(\"Es par numero ? \", (numero%2) == 0)"
      ],
      "execution_count": 16,
      "outputs": [
        {
          "output_type": "stream",
          "text": [
            "17\n",
            "3.34\n",
            "3.3333333333333335\n",
            "g=  3\n",
            "h=  1\n",
            "Es par numero ?  True\n"
          ],
          "name": "stdout"
        }
      ]
    },
    {
      "cell_type": "code",
      "metadata": {
        "colab": {
          "base_uri": "https://localhost:8080/"
        },
        "id": "0959yqZhW3Tb",
        "outputId": "ad2369ae-fdea-46dc-969e-9c0ffae79f90"
      },
      "source": [
        "ecuacion1= 9 + 7 * 8 - 36 / 5 #7*8-36/5 = 56-7.2 = 48.8+9 = 57.8\n",
        "print(ecuacion1)\n",
        "\n",
        "ecuacion2= (9 + 7) * 8 - 36 / 5 #9+7 = 16*8 = 128-36/5 = 128-7.2= 120.8\n",
        "print(ecuacion2)\n",
        "\n",
        "ecuacion3= 9 + 7 * (8 - 36) / 5\n",
        "print(ecuacion3)"
      ],
      "execution_count": 21,
      "outputs": [
        {
          "output_type": "stream",
          "text": [
            "57.8\n",
            "120.8\n",
            "-30.200000000000003\n"
          ],
          "name": "stdout"
        }
      ]
    },
    {
      "cell_type": "code",
      "metadata": {
        "colab": {
          "base_uri": "https://localhost:8080/"
        },
        "id": "3WF1DgxNcGTq",
        "outputId": "53e960ab-41ad-48b0-afd2-d98097fce093"
      },
      "source": [
        "#Operadores logicos --> True y False\n",
        "x=5\n",
        "y=4\n",
        "valor = (x==y) # Son iguales ?? --> Falso\n",
        "print(valor)\n",
        "\n",
        "valor = (x!=y) # Son diferentes ?? --> Verdadero\n",
        "print(valor)\n",
        "\n",
        "valor = (x<y) # x es menor que y ?? Falso\n",
        "print(valor)\n",
        "\n",
        "valor = (x>y) # x es mayor que y ?? Verdadero\n",
        "print(valor)\n",
        "\n",
        "y=5\n",
        "valor = (x<=y) # x es menor o igual que y ?? Verdadero \n",
        "print(valor)\n",
        "\n",
        "valor = (x>=y) # x es mayor o igual que y ?? Verdadero \n",
        "print(valor)"
      ],
      "execution_count": 29,
      "outputs": [
        {
          "output_type": "stream",
          "text": [
            "False\n",
            "True\n",
            "False\n",
            "True\n",
            "True\n",
            "True\n"
          ],
          "name": "stdout"
        }
      ]
    },
    {
      "cell_type": "code",
      "metadata": {
        "colab": {
          "base_uri": "https://localhost:8080/"
        },
        "id": "IYx1It8ygLPG",
        "outputId": "b6b3ac45-ef41-4de5-8e66-e1dfdbc89dda"
      },
      "source": [
        "costo_chetos=7.0\n",
        "tienda_abierta=True\n",
        "capital_en_bolsa=10.0\n",
        "\n",
        "se_compra= (costo_chetos<capital_en_bolsa) and (tienda_abierta==True)\n",
        "print(se_compra)\n"
      ],
      "execution_count": 32,
      "outputs": [
        {
          "output_type": "stream",
          "text": [
            "True\n"
          ],
          "name": "stdout"
        }
      ]
    }
  ]
}