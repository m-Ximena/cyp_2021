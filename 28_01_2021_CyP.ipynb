{
  "nbformat": 4,
  "nbformat_minor": 0,
  "metadata": {
    "colab": {
      "name": "28/01/2021_CyP.ipynb",
      "provenance": [],
      "authorship_tag": "ABX9TyNnlZ59lj4QpKatHNO0gicY",
      "include_colab_link": true
    },
    "kernelspec": {
      "name": "python3",
      "display_name": "Python 3"
    }
  },
  "cells": [
    {
      "cell_type": "markdown",
      "metadata": {
        "id": "view-in-github",
        "colab_type": "text"
      },
      "source": [
        "<a href=\"https://colab.research.google.com/github/m-Ximena/cyp_2021/blob/main/28_01_2021_CyP.ipynb\" target=\"_parent\"><img src=\"https://colab.research.google.com/assets/colab-badge.svg\" alt=\"Open In Colab\"/></a>"
      ]
    },
    {
      "cell_type": "markdown",
      "metadata": {
        "id": "nP02qjIgBhpY"
      },
      "source": [
        "#Tuplas \r\n",
        "- Tipo de dato líneal, estructura de datos \r\n",
        "- No mutable \r\n",
        "- Puede contener de 0 a n elementos \r\n",
        "- Se declara con '(' y ')'\r\n",
        "- No puedes agregar, ni eliminar elementos \r\n",
        "- Pueden ser anidadas \r\n",
        "- Los argumentos a una función son enviadas como tuplas "
      ]
    },
    {
      "cell_type": "code",
      "metadata": {
        "colab": {
          "base_uri": "https://localhost:8080/"
        },
        "id": "OOTVwP0JCcws",
        "outputId": "b7e64261-cd88-4ead-92e3-feb41b281063"
      },
      "source": [
        "frutas=(\"Sandía\",\"Melón\",\"Limón\",\"Mango\",\"Melón\")\r\n",
        "print(frutas)\r\n",
        "print(frutas[1:3:1])\r\n",
        "print(frutas.count(\"Melón\"))\r\n",
        "\r\n",
        "#Son inmutables \r\n",
        "#frutas[1] = \"manzana\"\r\n",
        "\r\n",
        "#¿Para que se usan?\r\n",
        "conexion = (\"123.248.12.12\", 3306,\"cyp_bd\",\"usr_test\",\"1234dios\")\r\n",
        "print(f\"usuario:{conexion[3]} y passwd:{conexion[4]}\")"
      ],
      "execution_count": 11,
      "outputs": [
        {
          "output_type": "stream",
          "text": [
            "('Sandía', 'Melón', 'Limón', 'Mango', 'Melón')\n",
            "('Melón', 'Limón')\n",
            "2\n",
            "usuario:usr_test y passwd:1234dios\n"
          ],
          "name": "stdout"
        }
      ]
    },
    {
      "cell_type": "code",
      "metadata": {
        "colab": {
          "base_uri": "https://localhost:8080/"
        },
        "id": "fFPAdz8UDPI7",
        "outputId": "3fbccdf8-984e-4f66-cfb2-577a0a4181e3"
      },
      "source": [
        "print(dir(frutas))"
      ],
      "execution_count": 5,
      "outputs": [
        {
          "output_type": "stream",
          "text": [
            "['__add__', '__class__', '__contains__', '__delattr__', '__dir__', '__doc__', '__eq__', '__format__', '__ge__', '__getattribute__', '__getitem__', '__getnewargs__', '__gt__', '__hash__', '__init__', '__init_subclass__', '__iter__', '__le__', '__len__', '__lt__', '__mul__', '__ne__', '__new__', '__reduce__', '__reduce_ex__', '__repr__', '__rmul__', '__setattr__', '__sizeof__', '__str__', '__subclasshook__', 'count', 'index']\n"
          ],
          "name": "stdout"
        }
      ]
    },
    {
      "cell_type": "markdown",
      "metadata": {
        "id": "SdEtmvj7FqAg"
      },
      "source": [
        "##Diccionarios \r\n",
        "- Estructura de datos semi líneal. \r\n",
        "- Formada por pares, llave - valor.\r\n",
        "- Equivalente al tipo de dato JSON, de JavaScript. \r\n",
        "- Utiliza organización por función de disperción.\r\n",
        "- Se declara con los elementos '{' y '}'\r\n",
        "- El selector usa valores de tipo string (llave)\r\n",
        "- No se puede seleccionar por offset [1]\r\n",
        "- Son mutables. "
      ]
    },
    {
      "cell_type": "code",
      "metadata": {
        "colab": {
          "base_uri": "https://localhost:8080/"
        },
        "id": "d69X3YKkG_s6",
        "outputId": "c97222cf-6a21-44c3-81d1-00da16372961"
      },
      "source": [
        "materias={\"Programación\":9,\"Geometría\":10,\"Física\":7,\"Álgebra\":6}\r\n",
        "alumno = {\"escuela\":\"FES Aragón\",'nombre' : 'Juan Pérez', \"edad\": 18,\"CURP\": \"PEMJ020906MMCDRRA4\",\"número de cuenta\": 318344441, \"materias\": materias,'aprovado' : True, 'direccion': { 'calle':'Rancho seco', 'numero': 's/n', 'colonia': 'impulsora popular avicola','municipio': 'Mi-nezota',  'estado':{ 'clave':15,'nombre_clave':'MEX','nombre':\"Estado de México\"}}}\r\n",
        "print(alumno)\r\n",
        "print(alumno[\"nombre\"])\r\n",
        "#Calificación de Física\r\n",
        "print(alumno[\"materias\"][\"Física\"])\r\n",
        "#nombre, todo en mayusculas \r\n",
        "print(alumno[\"nombre\"].upper())\r\n",
        "print(\"_______________________________________________________\")\r\n",
        "print(alumno)\r\n",
        "alumno[\"seguro\"]=True\r\n",
        "print(alumno)\r\n",
        "print(\"_______________________________________________________\")\r\n",
        "alumno[\"direccion\"][\"cp\"]=57170\r\n",
        "print(alumno)"
      ],
      "execution_count": 52,
      "outputs": [
        {
          "output_type": "stream",
          "text": [
            "{'escuela': 'FES Aragón', 'nombre': 'Juan Pérez', 'edad': 18, 'CURP': 'PEMJ020906MMCDRRA4', 'número de cuenta': 318344441, 'materias': {'Programación': 9, 'Geometría': 10, 'Física': 7, 'Álgebra': 6}, 'aprovado': True, 'direccion': {'calle': 'Rancho seco', 'numero': 's/n', 'colonia': 'impulsora popular avicola', 'municipio': 'Mi-nezota', 'estado': {'clave': 15, 'nombre_clave': 'MEX', 'nombre': 'Estado de México'}}}\n",
            "Juan Pérez\n",
            "7\n",
            "JUAN PÉREZ\n",
            "_______________________________________________________\n",
            "{'escuela': 'FES Aragón', 'nombre': 'Juan Pérez', 'edad': 18, 'CURP': 'PEMJ020906MMCDRRA4', 'número de cuenta': 318344441, 'materias': {'Programación': 9, 'Geometría': 10, 'Física': 7, 'Álgebra': 6}, 'aprovado': True, 'direccion': {'calle': 'Rancho seco', 'numero': 's/n', 'colonia': 'impulsora popular avicola', 'municipio': 'Mi-nezota', 'estado': {'clave': 15, 'nombre_clave': 'MEX', 'nombre': 'Estado de México'}}}\n",
            "{'escuela': 'FES Aragón', 'nombre': 'Juan Pérez', 'edad': 18, 'CURP': 'PEMJ020906MMCDRRA4', 'número de cuenta': 318344441, 'materias': {'Programación': 9, 'Geometría': 10, 'Física': 7, 'Álgebra': 6}, 'aprovado': True, 'direccion': {'calle': 'Rancho seco', 'numero': 's/n', 'colonia': 'impulsora popular avicola', 'municipio': 'Mi-nezota', 'estado': {'clave': 15, 'nombre_clave': 'MEX', 'nombre': 'Estado de México'}}, 'seguro': True}\n",
            "_______________________________________________________\n",
            "{'escuela': 'FES Aragón', 'nombre': 'Juan Pérez', 'edad': 18, 'CURP': 'PEMJ020906MMCDRRA4', 'número de cuenta': 318344441, 'materias': {'Programación': 9, 'Geometría': 10, 'Física': 7, 'Álgebra': 6}, 'aprovado': True, 'direccion': {'calle': 'Rancho seco', 'numero': 's/n', 'colonia': 'impulsora popular avicola', 'municipio': 'Mi-nezota', 'estado': {'clave': 15, 'nombre_clave': 'MEX', 'nombre': 'Estado de México'}, 'cp': 57170}, 'seguro': True}\n"
          ],
          "name": "stdout"
        }
      ]
    },
    {
      "cell_type": "code",
      "metadata": {
        "id": "etM00wlVOclE"
      },
      "source": [
        "cliente = {}"
      ],
      "execution_count": null,
      "outputs": []
    },
    {
      "cell_type": "code",
      "metadata": {
        "colab": {
          "base_uri": "https://localhost:8080/"
        },
        "id": "v_80TEdnVElS",
        "outputId": "6b092f7d-293e-4d1e-a6fc-10bce2f217ac"
      },
      "source": [
        "funciones=dir(dict)\r\n",
        "for funcion in funciones:\r\n",
        "  print(funcion)"
      ],
      "execution_count": 43,
      "outputs": [
        {
          "output_type": "stream",
          "text": [
            "__class__\n",
            "__contains__\n",
            "__delattr__\n",
            "__delitem__\n",
            "__dir__\n",
            "__doc__\n",
            "__eq__\n",
            "__format__\n",
            "__ge__\n",
            "__getattribute__\n",
            "__getitem__\n",
            "__gt__\n",
            "__hash__\n",
            "__init__\n",
            "__init_subclass__\n",
            "__iter__\n",
            "__le__\n",
            "__len__\n",
            "__lt__\n",
            "__ne__\n",
            "__new__\n",
            "__reduce__\n",
            "__reduce_ex__\n",
            "__repr__\n",
            "__setattr__\n",
            "__setitem__\n",
            "__sizeof__\n",
            "__str__\n",
            "__subclasshook__\n",
            "clear\n",
            "copy\n",
            "fromkeys\n",
            "get\n",
            "items\n",
            "keys\n",
            "pop\n",
            "popitem\n",
            "setdefault\n",
            "update\n",
            "values\n"
          ],
          "name": "stdout"
        }
      ]
    },
    {
      "cell_type": "markdown",
      "metadata": {
        "id": "smio-eWMVE0l"
      },
      "source": [
        "## Manipulación de los pares llave-valor.\r\n",
        "Para ello se emplean los métodos: \r\n",
        "- keys() te regresa una tupla con los strings llave del diccionario.\r\n",
        "- values() te regresa sólo los valores.\r\n",
        "- items() te regresa los pares.\r\n"
      ]
    },
    {
      "cell_type": "code",
      "metadata": {
        "colab": {
          "base_uri": "https://localhost:8080/"
        },
        "id": "H2zzwQKOWKlR",
        "outputId": "5d64724f-aa5a-4839-d035-45a82a334b1b"
      },
      "source": [
        "print(alumno)\r\n",
        "llaves=alumno.keys()\r\n",
        "print(llaves)\r\n",
        "for elem in llaves:\r\n",
        "  print(elem)\r\n",
        "  print(alumno[elem])\r\n",
        "\r\n",
        "#Manipular los valores \r\n",
        "valores=alumno.values()\r\n",
        "print(\"____________________________________________________________-\")\r\n",
        "print(valores)\r\n",
        "for val in valores: \r\n",
        "  print(val)\r\n",
        "\r\n",
        "#Manipular pares \r\n",
        "pares = alumno.items()\r\n",
        "print(\"_____________________________________________________\")\r\n",
        "print(pares)\r\n",
        "for par in pares: \r\n",
        "  print(par)"
      ],
      "execution_count": 51,
      "outputs": [
        {
          "output_type": "stream",
          "text": [
            "{'escuela': 'FES Aragón', 'nombre': 'Juan Pérez', 'edad': 18, 'CURP': 'PEMJ020906MMCDRRA4', 'número de cuenta': 318344441, 'materias': {'Programación': 9, 'Geometría': 10, 'Física': 7, 'Álgebra': 6}, 'aprovado': True, 'direccion': {'calle': 'Rancho seco', 'numero': 's/n', 'colonia': 'impulsora popular avicola', 'municipio': 'Mi-nezota', 'estado': {'clave': 15, 'nombre_clave': 'MEX', 'nombre': 'Estado de México'}}, 'seguro': True}\n",
            "dict_keys(['escuela', 'nombre', 'edad', 'CURP', 'número de cuenta', 'materias', 'aprovado', 'direccion', 'seguro'])\n",
            "escuela\n",
            "FES Aragón\n",
            "nombre\n",
            "Juan Pérez\n",
            "edad\n",
            "18\n",
            "CURP\n",
            "PEMJ020906MMCDRRA4\n",
            "número de cuenta\n",
            "318344441\n",
            "materias\n",
            "{'Programación': 9, 'Geometría': 10, 'Física': 7, 'Álgebra': 6}\n",
            "aprovado\n",
            "True\n",
            "direccion\n",
            "{'calle': 'Rancho seco', 'numero': 's/n', 'colonia': 'impulsora popular avicola', 'municipio': 'Mi-nezota', 'estado': {'clave': 15, 'nombre_clave': 'MEX', 'nombre': 'Estado de México'}}\n",
            "seguro\n",
            "True\n",
            "____________________________________________________________-\n",
            "dict_values(['FES Aragón', 'Juan Pérez', 18, 'PEMJ020906MMCDRRA4', 318344441, {'Programación': 9, 'Geometría': 10, 'Física': 7, 'Álgebra': 6}, True, {'calle': 'Rancho seco', 'numero': 's/n', 'colonia': 'impulsora popular avicola', 'municipio': 'Mi-nezota', 'estado': {'clave': 15, 'nombre_clave': 'MEX', 'nombre': 'Estado de México'}}, True])\n",
            "FES Aragón\n",
            "Juan Pérez\n",
            "18\n",
            "PEMJ020906MMCDRRA4\n",
            "318344441\n",
            "{'Programación': 9, 'Geometría': 10, 'Física': 7, 'Álgebra': 6}\n",
            "True\n",
            "{'calle': 'Rancho seco', 'numero': 's/n', 'colonia': 'impulsora popular avicola', 'municipio': 'Mi-nezota', 'estado': {'clave': 15, 'nombre_clave': 'MEX', 'nombre': 'Estado de México'}}\n",
            "True\n",
            "_____________________________________________________\n",
            "dict_items([('escuela', 'FES Aragón'), ('nombre', 'Juan Pérez'), ('edad', 18), ('CURP', 'PEMJ020906MMCDRRA4'), ('número de cuenta', 318344441), ('materias', {'Programación': 9, 'Geometría': 10, 'Física': 7, 'Álgebra': 6}), ('aprovado', True), ('direccion', {'calle': 'Rancho seco', 'numero': 's/n', 'colonia': 'impulsora popular avicola', 'municipio': 'Mi-nezota', 'estado': {'clave': 15, 'nombre_clave': 'MEX', 'nombre': 'Estado de México'}}), ('seguro', True)])\n",
            "('escuela', 'FES Aragón')\n",
            "('nombre', 'Juan Pérez')\n",
            "('edad', 18)\n",
            "('CURP', 'PEMJ020906MMCDRRA4')\n",
            "('número de cuenta', 318344441)\n",
            "('materias', {'Programación': 9, 'Geometría': 10, 'Física': 7, 'Álgebra': 6})\n",
            "('aprovado', True)\n",
            "('direccion', {'calle': 'Rancho seco', 'numero': 's/n', 'colonia': 'impulsora popular avicola', 'municipio': 'Mi-nezota', 'estado': {'clave': 15, 'nombre_clave': 'MEX', 'nombre': 'Estado de México'}})\n",
            "('seguro', True)\n"
          ],
          "name": "stdout"
        }
      ]
    }
  ]
}