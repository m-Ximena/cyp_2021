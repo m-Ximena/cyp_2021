{
  "nbformat": 4,
  "nbformat_minor": 0,
  "metadata": {
    "colab": {
      "name": "5/01/2021_CyP.ipynb",
      "provenance": [],
      "authorship_tag": "ABX9TyM5VSJYAysSd/GUDImJ4cKX",
      "include_colab_link": true
    },
    "kernelspec": {
      "name": "python3",
      "display_name": "Python 3"
    }
  },
  "cells": [
    {
      "cell_type": "markdown",
      "metadata": {
        "id": "view-in-github",
        "colab_type": "text"
      },
      "source": [
        "<a href=\"https://colab.research.google.com/github/m-Ximena/cyp_2021/blob/main/05_01_2021_CyP.ipynb\" target=\"_parent\"><img src=\"https://colab.research.google.com/assets/colab-badge.svg\" alt=\"Open In Colab\"/></a>"
      ]
    },
    {
      "cell_type": "code",
      "metadata": {
        "colab": {
          "base_uri": "https://localhost:8080/"
        },
        "id": "Rt178SlTjLip",
        "outputId": "b296cb29-6a37-4f76-d83e-01648979d439"
      },
      "source": [
        "sueldos= [0.0 for x in range (7)]\r\n",
        "print(sueldos)\r\n",
        "sueldos[0]=12.3\r\n",
        "sueldos[1]=32.3\r\n",
        "sueldos[2]=43.3\r\n",
        "sueldos[3]=11.3\r\n",
        "sueldos[4]=77.3\r\n",
        "sueldos[5]=88.3\r\n",
        "sueldos[6]=99.3\r\n",
        "print(sueldos)"
      ],
      "execution_count": 3,
      "outputs": [
        {
          "output_type": "stream",
          "text": [
            "[0.0, 0.0, 0.0, 0.0, 0.0, 0.0, 0.0]\n",
            "[12.3, 32.3, 43.3, 11.3, 77.3, 88.3, 99.3]\n"
          ],
          "name": "stdout"
        }
      ]
    },
    {
      "cell_type": "code",
      "metadata": {
        "colab": {
          "base_uri": "https://localhost:8080/"
        },
        "id": "5gedR3q2mbwR",
        "outputId": "2759996f-523a-4efd-b79d-894567c7605b"
      },
      "source": [
        "#Como le hacemos para asignarle valor de 1.0 al 7.0 con una estructura for\r\n",
        "sueldo=[0.0 for x in range(7)] \r\n",
        "for i in range(0,7):\r\n",
        "  sueldo[i]= float(i)+1.0\r\n",
        "print(sueldo)"
      ],
      "execution_count": 48,
      "outputs": [
        {
          "output_type": "stream",
          "text": [
            "[1.0, 2.0, 3.0, 4.0, 5.0, 6.0, 7.0]\n"
          ],
          "name": "stdout"
        }
      ]
    },
    {
      "cell_type": "code",
      "metadata": {
        "colab": {
          "base_uri": "https://localhost:8080/"
        },
        "id": "AH5k1HcEouOs",
        "outputId": "f8b2d653-ef9a-4fec-cacd-42372035793a"
      },
      "source": [
        "#Problema 4.1\r\n",
        "maximo=7\r\n",
        "suma=0.0\r\n",
        "promedio=0.0\r\n",
        "sueldo= [0.0 for x in range(maximo)]\r\n",
        "for i in range(maximo):\r\n",
        "  sueldos[i]=float(input(\"Dame el sueldo: \"))\r\n",
        "\r\n",
        "for i in range(maximo):\r\n",
        "  print(f\"Tabajador {i+1} gana ${sueldos[i]}\")\r\n",
        "\r\n",
        "for i in range(maximo):\r\n",
        "  suma=suma+sueldos[i]\r\n",
        "promedio=suma/maximo\r\n",
        "print(f\"El promedio de sueldo es ${promedio}\")\r\n",
        "\r\n",
        "for i in range(maximo):\r\n",
        "  if sueldos[i]>promedio:\r\n",
        "    print(f\"El trabajador {i+1} tiene un sueldo mayor al promedio\")"
      ],
      "execution_count": 29,
      "outputs": [
        {
          "output_type": "stream",
          "text": [
            "Dame el sueldo: 4\n",
            "Dame el sueldo: 5\n",
            "Dame el sueldo: 4\n",
            "Dame el sueldo: 5\n",
            "Dame el sueldo: 4\n",
            "Dame el sueldo: 5\n",
            "Dame el sueldo: 4\n",
            "Tabajador 1 gana $4.0\n",
            "Tabajador 2 gana $5.0\n",
            "Tabajador 3 gana $4.0\n",
            "Tabajador 4 gana $5.0\n",
            "Tabajador 5 gana $4.0\n",
            "Tabajador 6 gana $5.0\n",
            "Tabajador 7 gana $4.0\n",
            "El promedio de sueldo es $4.428571428571429\n",
            "El trabajador 2 tiene un sueldo mayor al promedio\n",
            "El trabajador 4 tiene un sueldo mayor al promedio\n",
            "El trabajador 6 tiene un sueldo mayor al promedio\n"
          ],
          "name": "stdout"
        }
      ]
    },
    {
      "cell_type": "code",
      "metadata": {
        "colab": {
          "base_uri": "https://localhost:8080/"
        },
        "id": "4ni8SYx3stWu",
        "outputId": "f35ad972-e7cb-4baf-8830-acf1ed84af32"
      },
      "source": [
        "#Hacer un programa que solicite 5 valores enteros positivos y una vez que se capturen el programa determine lo siguiente:\r\n",
        "#1.-cual es el mayor \r\n",
        "#2.-cual es el menor\r\n",
        "#3.-cual es el promedio\r\n",
        "v=5\r\n",
        "suma=0.0\r\n",
        "pro=0.0\r\n",
        "may=0\r\n",
        "men=10000000\r\n",
        "valor= [0.0 for x in range(v)]\r\n",
        "\r\n",
        "for i in range(v):\r\n",
        "  valor[i]=int(input(\"Ingrese un valor entero positivo: \"))\r\n",
        "  if valor[i]>may:\r\n",
        "    may= valor[i]\r\n",
        "  elif valor[i] < men:\r\n",
        "    men= valor[i]\r\n",
        "\r\n",
        "for i in range(v):\r\n",
        "  suma=suma+valor[i]\r\n",
        "pro=suma/v\r\n",
        "\r\n",
        "print(f\"El valor mayor es: {may}\")\r\n",
        "print(f\"El valor menor es: {men}\")\r\n",
        "print(f\"El promedio es: {pro}\")"
      ],
      "execution_count": 51,
      "outputs": [
        {
          "output_type": "stream",
          "text": [
            "Ingrese un valor entero positivo: 5432\n",
            "Ingrese un valor entero positivo: 54\n",
            "Ingrese un valor entero positivo: 3\n",
            "Ingrese un valor entero positivo: 65\n",
            "Ingrese un valor entero positivo: 765\n",
            "El valor mayor es: 5432\n",
            "El valor menor es: 3\n",
            "El promedio es: 1263.8\n"
          ],
          "name": "stdout"
        }
      ]
    },
    {
      "cell_type": "code",
      "metadata": {
        "colab": {
          "base_uri": "https://localhost:8080/"
        },
        "id": "OgDDEvbV-353",
        "outputId": "d6754435-b422-4a0b-a024-d4c4c1877805"
      },
      "source": [
        "#Problema 4.1\r\n",
        "N = int(input(\"Ingrese el numero de elementos del arreglo: \"))\r\n",
        "VEC = []\r\n",
        "if 1 <= N and N <=500:\r\n",
        "  VEC = [0 for x in range(N)]\r\n",
        "  for I in range(N):\r\n",
        "    VEC[I]=int(input(\"Ingrese valor\" + str(I+1) + \":\"))\r\n",
        "  print(\"Lista de numero sin repeticiones: \")\r\n",
        "\r\n",
        "  I =0\r\n",
        "  while I<N:\r\n",
        "    print(VEC[I])\r\n",
        "    REPET = VEC[I]\r\n",
        "    while I < N and REPET == VEC[I]:\r\n",
        "      I = I +1\r\n",
        "    I = I + 1\r\n",
        "else: \r\n",
        "  print(\"EL numero de elementos del arreglo es incorrecto\")"
      ],
      "execution_count": 47,
      "outputs": [
        {
          "output_type": "stream",
          "text": [
            "Ingrese el numero de elementos del arreglo: 5\n",
            "Ingrese valor1:3\n",
            "Ingrese valor2:5\n",
            "Ingrese valor3:6\n",
            "Ingrese valor4:2\n",
            "Ingrese valor5:5\n",
            "Lista de numero sin repeticiones: \n",
            "3\n",
            "6\n",
            "5\n"
          ],
          "name": "stdout"
        }
      ]
    }
  ]
}