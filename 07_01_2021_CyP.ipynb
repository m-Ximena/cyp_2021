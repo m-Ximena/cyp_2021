{
  "nbformat": 4,
  "nbformat_minor": 0,
  "metadata": {
    "colab": {
      "name": "07/01/2021_CyP.ipynb",
      "provenance": [],
      "authorship_tag": "ABX9TyMzPrABaWX2JuHFyvE2OOXn",
      "include_colab_link": true
    },
    "kernelspec": {
      "name": "python3",
      "display_name": "Python 3"
    }
  },
  "cells": [
    {
      "cell_type": "markdown",
      "metadata": {
        "id": "view-in-github",
        "colab_type": "text"
      },
      "source": [
        "<a href=\"https://colab.research.google.com/github/m-Ximena/cyp_2021/blob/main/07_01_2021_CyP.ipynb\" target=\"_parent\"><img src=\"https://colab.research.google.com/assets/colab-badge.svg\" alt=\"Open In Colab\"/></a>"
      ]
    },
    {
      "cell_type": "code",
      "metadata": {
        "id": "3z60PEak_PxD",
        "colab": {
          "base_uri": "https://localhost:8080/"
        },
        "outputId": "fc30108e-dddd-42b7-83b0-acac1318374f"
      },
      "source": [
        "ren=3\r\n",
        "col=5\r\n",
        "VEC=[ [0 for x in range (col)] for x in range (ren)]\r\n",
        "print(VEC)\r\n",
        "VEC[1][2]=15\r\n",
        "print(VEC)\r\n",
        "print(\"Automatizar el recorrido del arreglo\")\r\n",
        "for i in range(ren):\r\n",
        "  for j in range (col):\r\n",
        "    print(f\"{i},{j} = {VEC[i][j]}\")"
      ],
      "execution_count": 5,
      "outputs": [
        {
          "output_type": "stream",
          "text": [
            "[[0, 0, 0, 0, 0], [0, 0, 0, 0, 0], [0, 0, 0, 0, 0]]\n",
            "[[0, 0, 0, 0, 0], [0, 0, 15, 0, 0], [0, 0, 0, 0, 0]]\n",
            "Automatizar el recorrido del arreglo\n",
            "0,0 = 0\n",
            "0,1 = 0\n",
            "0,2 = 0\n",
            "0,3 = 0\n",
            "0,4 = 0\n",
            "1,0 = 0\n",
            "1,1 = 0\n",
            "1,2 = 15\n",
            "1,3 = 0\n",
            "1,4 = 0\n",
            "2,0 = 0\n",
            "2,1 = 0\n",
            "2,2 = 0\n",
            "2,3 = 0\n",
            "2,4 = 0\n"
          ],
          "name": "stdout"
        }
      ]
    },
    {
      "cell_type": "code",
      "metadata": {
        "colab": {
          "base_uri": "https://localhost:8080/"
        },
        "id": "Bcrk8D80EvAB",
        "outputId": "9b0ec211-ea64-48a7-f3bb-f063d96310cc"
      },
      "source": [
        "#Ejemplo 4.6\r\n",
        "estados=int(input(\"Ingrese cuantos estados son: \"))\r\n",
        "lluvia=[ [0 for x in range (12)] for x in range (estados)]\r\n",
        "print(lluvia)\r\n",
        "for i in range(estados):\r\n",
        "  for j in range(12):\r\n",
        "    mensaje = \"Dame el valor del estado \",str(i+1),\" del mes\", str(j+1),\":\"\r\n",
        "    aux = int(input(mensaje))\r\n",
        "    lluvia[i][j]=aux\r\n",
        "print(lluvia)\r\n",
        "print(\"Promedio de lluvias en los estados\")\r\n",
        "suma=0 \r\n",
        "for i in range(estados):\r\n",
        "  suma=0\r\n",
        "  for j in range(12):\r\n",
        "    suma=suma+lluvia[i][j]\r\n",
        "  print(f\"El promedio de lluvia del estado de {i+1} es {suma/12}\")"
      ],
      "execution_count": 27,
      "outputs": [
        {
          "output_type": "stream",
          "text": [
            "Ingrese cuantos estados son: 2\n",
            "[[0, 0, 0, 0, 0, 0, 0, 0, 0, 0, 0, 0], [0, 0, 0, 0, 0, 0, 0, 0, 0, 0, 0, 0]]\n",
            "Dame el valor del estado ,1, del mes,1,:50\n",
            "Dame el valor del estado ,1, del mes,2,:7\n",
            "Dame el valor del estado ,1, del mes,3,:12\n",
            "Dame el valor del estado ,1, del mes,4,:15\n",
            "Dame el valor del estado ,1, del mes,5,:22\n",
            "Dame el valor del estado ,1, del mes,6,:50\n",
            "Dame el valor del estado ,1, del mes,7,:85\n",
            "Dame el valor del estado ,1, del mes,8,:70\n",
            "Dame el valor del estado ,1, del mes,9,:65\n",
            "Dame el valor del estado ,1, del mes,10,:28\n",
            "Dame el valor del estado ,1, del mes,11,:35\n",
            "Dame el valor del estado ,1, del mes,12,:17\n",
            "Dame el valor del estado ,2, del mes,1,:45\n",
            "Dame el valor del estado ,2, del mes,2,:3\n",
            "Dame el valor del estado ,2, del mes,3,:10\n",
            "Dame el valor del estado ,2, del mes,4,:5\n",
            "Dame el valor del estado ,2, del mes,5,:30\n",
            "Dame el valor del estado ,2, del mes,6,:90\n",
            "Dame el valor del estado ,2, del mes,7,:130\n",
            "Dame el valor del estado ,2, del mes,8,:75\n",
            "Dame el valor del estado ,2, del mes,9,:49\n",
            "Dame el valor del estado ,2, del mes,10,:37\n",
            "Dame el valor del estado ,2, del mes,11,:15\n",
            "Dame el valor del estado ,2, del mes,12,:8\n",
            "[[50, 7, 12, 15, 22, 50, 85, 70, 65, 28, 35, 17], [45, 3, 10, 5, 30, 90, 130, 75, 49, 37, 15, 8]]\n",
            "Promedio de lluvias en los estados\n",
            "El promedio de lluvia del estado de 1 es 38.0\n",
            "El promedio de lluvia del estado de 2 es 41.416666666666664\n"
          ],
          "name": "stdout"
        }
      ]
    }
  ]
}