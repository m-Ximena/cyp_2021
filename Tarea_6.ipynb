{
  "nbformat": 4,
  "nbformat_minor": 0,
  "metadata": {
    "colab": {
      "name": "Tarea 6.ipynb",
      "provenance": [],
      "authorship_tag": "ABX9TyNzwSiQ5deYrhK+YebhDR5S",
      "include_colab_link": true
    },
    "kernelspec": {
      "display_name": "Python 3",
      "name": "python3"
    }
  },
  "cells": [
    {
      "cell_type": "markdown",
      "metadata": {
        "id": "view-in-github",
        "colab_type": "text"
      },
      "source": [
        "<a href=\"https://colab.research.google.com/github/m-Ximena/cyp_2021/blob/main/Tarea_6.ipynb\" target=\"_parent\"><img src=\"https://colab.research.google.com/assets/colab-badge.svg\" alt=\"Open In Colab\"/></a>"
      ]
    },
    {
      "cell_type": "code",
      "metadata": {
        "colab": {
          "base_uri": "https://localhost:8080/"
        },
        "id": "aMJbeLYzbFP5",
        "outputId": "b660930d-7ffb-4173-8c46-72f4132c8aa9"
      },
      "source": [
        "#Problema 3.3\r\n",
        "serie=0\r\n",
        "band=True\r\n",
        "I=1\r\n",
        "n=int(input(\"Ingrese el número de términos de la serie: \"))\r\n",
        "while I <=n:\r\n",
        "  if band == True:\r\n",
        "    serie=serie+1/I\r\n",
        "    band=False \r\n",
        "  else:\r\n",
        "    serie=serie-1/I\r\n",
        "    band=True\r\n",
        "  I=I+1\r\n",
        "  print(f\"{I} - {band} - {serie}\")"
      ],
      "execution_count": null,
      "outputs": [
        {
          "output_type": "stream",
          "text": [
            "Ingrese el número de términos de la serie: 9\n",
            "2 - False - 1.0\n",
            "3 - True - 0.5\n",
            "4 - False - 0.8333333333333333\n",
            "5 - True - 0.5833333333333333\n",
            "6 - False - 0.7833333333333332\n",
            "7 - True - 0.6166666666666666\n",
            "8 - False - 0.7595238095238095\n",
            "9 - True - 0.6345238095238095\n",
            "10 - False - 0.7456349206349207\n"
          ],
          "name": "stdout"
        }
      ]
    },
    {
      "cell_type": "code",
      "metadata": {
        "colab": {
          "base_uri": "https://localhost:8080/"
        },
        "id": "3o1RkZpPvHu-",
        "outputId": "16c83e69-b69b-434f-fe82-c3d87d196def"
      },
      "source": [
        "#Problema 3.4 \r\n",
        "nom=0\r\n",
        "sue=float(input(\"Ingrese el sueldo del empleado = $\"))\r\n",
        "while (sue !=-1):\r\n",
        "  if sue < 1000:\r\n",
        "    nsue=(sue*0.15)+sue\r\n",
        "  if sue >= 1000:\r\n",
        "    nsue=(sue*0.12)+sue\r\n",
        "  print(f\"El sueldo del trabajador es ${sue} y su nuevo sueldo es ${nsue}\")\r\n",
        "  sue=float(input(\"Ingrese el sueldo del empleado = $\"))\r\n",
        "  nom+=nsue\r\n",
        "print(f\"El total de la nómina es = ${nom}\")"
      ],
      "execution_count": null,
      "outputs": [
        {
          "output_type": "stream",
          "text": [
            "Ingrese el sueldo del empleado = $855\n",
            "El sueldo del trabajador es $855.0 y su nuevo sueldo es $983.25\n",
            "Ingrese el sueldo del empleado = $760.32\n",
            "El sueldo del trabajador es $760.32 y su nuevo sueldo es $874.368\n",
            "Ingrese el sueldo del empleado = $1100.20\n",
            "El sueldo del trabajador es $1100.2 y su nuevo sueldo es $1232.2240000000002\n",
            "Ingrese el sueldo del empleado = $614\n",
            "El sueldo del trabajador es $614.0 y su nuevo sueldo es $706.1\n",
            "Ingrese el sueldo del empleado = $2600\n",
            "El sueldo del trabajador es $2600.0 y su nuevo sueldo es $2912.0\n",
            "Ingrese el sueldo del empleado = $817.50\n",
            "El sueldo del trabajador es $817.5 y su nuevo sueldo es $940.125\n",
            "Ingrese el sueldo del empleado = $1280.30\n",
            "El sueldo del trabajador es $1280.3 y su nuevo sueldo es $1433.936\n",
            "Ingrese el sueldo del empleado = $687\n",
            "El sueldo del trabajador es $687.0 y su nuevo sueldo es $790.05\n",
            "Ingrese el sueldo del empleado = $-1\n",
            "El total de la nómina es = $9872.053\n"
          ],
          "name": "stdout"
        }
      ]
    },
    {
      "cell_type": "code",
      "metadata": {
        "colab": {
          "base_uri": "https://localhost:8080/"
        },
        "id": "DhuDx88lKAth",
        "outputId": "3b8bdf29-5920-4a1d-fbd9-d13a9943468c"
      },
      "source": [
        "#Problema 3.5\r\n",
        "sumt=0\r\n",
        "sump=0\r\n",
        "cuep=0\r\n",
        "I=1\r\n",
        "n=int(input(\"Indique cuántos números se van a ingresar: \"))\r\n",
        "while (I<=n):\r\n",
        "  num= int(input(\"Ingresé un número entero: \"))\r\n",
        "  if num>0:\r\n",
        "    sump+=num\r\n",
        "    cuep=cuep+1\r\n",
        "  sumt+=num\r\n",
        "  I=I+1\r\n",
        "promp=sump/cuep\r\n",
        "promt=sumt/n\r\n",
        "print(f\"El total de números leídos mayores a cero es: {cuep}\")\r\n",
        "print(f\"El promedio de los números positivos es: {promp}\")\r\n",
        "print(f\"El promedio de todos los números es: {promt}\")"
      ],
      "execution_count": null,
      "outputs": [
        {
          "output_type": "stream",
          "text": [
            "Indique cuántos números se van a ingresar: 20\n",
            "Ingresé un número entero: 7\n",
            "Ingresé un número entero: 12\n",
            "Ingresé un número entero: 0\n",
            "Ingresé un número entero: 6\n",
            "Ingresé un número entero: 11\n",
            "Ingresé un número entero: -3\n",
            "Ingresé un número entero: 17\n",
            "Ingresé un número entero: 12\n",
            "Ingresé un número entero: 19\n",
            "Ingresé un número entero: 0\n",
            "Ingresé un número entero: 11\n",
            "Ingresé un número entero: 4\n",
            "Ingresé un número entero: -5\n",
            "Ingresé un número entero: -1\n",
            "Ingresé un número entero: 0\n",
            "Ingresé un número entero: 3\n",
            "Ingresé un número entero: 24\n",
            "Ingresé un número entero: 0\n",
            "Ingresé un número entero: 3\n",
            "Ingresé un número entero: -16\n",
            "El total de números leídos mayores a cero es: 12\n",
            "El promedio de los números positivos es: 10.75\n",
            "El promedio de todos los números es: 5.2\n"
          ],
          "name": "stdout"
        }
      ]
    },
    {
      "cell_type": "code",
      "metadata": {
        "colab": {
          "base_uri": "https://localhost:8080/"
        },
        "id": "V0tDH-BBVTmR",
        "outputId": "e13094b9-e411-43fc-9e55-76c01c920421"
      },
      "source": [
        "#Problema 3.6\r\n",
        "I=1\r\n",
        "may=-100000\r\n",
        "men=100000\r\n",
        "n=int(input(\"Indique cuántos números se van a ingresar: \"))\r\n",
        "while (I<=n):\r\n",
        "  num= int(input(\"Ingresé un número entero: \"))\r\n",
        "  while (num>may):\r\n",
        "    may=num\r\n",
        "  while (num<men):\r\n",
        "    men=num\r\n",
        "  I=I+1\r\n",
        "print(f\"El número mayor es: {may}\")\r\n",
        "print(f\"El número menor es: {men}\")"
      ],
      "execution_count": null,
      "outputs": [
        {
          "output_type": "stream",
          "text": [
            "Indique cuántos números se van a ingresar: 12\n",
            "Ingresé un número entero: 170\n",
            "Ingresé un número entero: 44\n",
            "Ingresé un número entero: 815\n",
            "Ingresé un número entero: 1700\n",
            "Ingresé un número entero: 38\n",
            "Ingresé un número entero: 140\n",
            "Ingresé un número entero: 380\n",
            "Ingresé un número entero: 1020\n",
            "Ingresé un número entero: 116\n",
            "Ingresé un número entero: 14\n",
            "Ingresé un número entero: 730\n",
            "Ingresé un número entero: 960\n",
            "El número mayor es: 1700\n",
            "El número menor es: 14\n"
          ],
          "name": "stdout"
        }
      ]
    },
    {
      "cell_type": "code",
      "metadata": {
        "colab": {
          "base_uri": "https://localhost:8080/"
        },
        "id": "XICGyUi9BN-5",
        "outputId": "54b8f8da-a7d1-48c2-d7d3-35b4640b05fb"
      },
      "source": [
        "#Problema 3.7\r\n",
        "I=1\r\n",
        "cuechi=0\r\n",
        "cuemed=0\r\n",
        "cuegra=0\r\n",
        "n=int(input(\"Indique cuántas ventas se realizaron: \"))\r\n",
        "while (I<=n):\r\n",
        "  ven=float(input(\"Ingrese la venta: $\"))\r\n",
        "  if ven<=200:\r\n",
        "    cuechi=cuechi+1\r\n",
        "  if ven>200 and ven<400:\r\n",
        "    cuemed=cuemed+1\r\n",
        "  if ven>=400:\r\n",
        "    cuegra=cuegra+1\r\n",
        "  I=I+1\r\n",
        "print(f\"Las ventas de $200 o menores son: {cuechi}\")\r\n",
        "print(f\"Las ventas mayores a $200 pero inferiores a $400 son: {cuemed}\")\r\n",
        "print(f\"Las ventas de $400 o superiores son: {cuegra}\")"
      ],
      "execution_count": null,
      "outputs": [
        {
          "output_type": "stream",
          "text": [
            "Indique cuántas ventas se realizaron: 12\n",
            "Ingrese la venta: $180.25\n",
            "Ingrese la venta: $470.30\n",
            "Ingrese la venta: $150.25\n",
            "Ingrese la venta: $88.60\n",
            "Ingrese la venta: $230.15\n",
            "Ingrese la venta: $170.20\n",
            "Ingrese la venta: $40.30\n",
            "Ingrese la venta: $201.90\n",
            "Ingrese la venta: $60.32\n",
            "Ingrese la venta: $280.30\n",
            "Ingrese la venta: $15.70\n",
            "Ingrese la venta: $140.20\n",
            "Las ventas de $200 o menores son: 8\n",
            "Las ventas mayores a $200 pero inferiores a $400 son: 3\n",
            "Las ventas de $400 o superiores son: 1\n"
          ],
          "name": "stdout"
        }
      ]
    },
    {
      "cell_type": "code",
      "metadata": {
        "colab": {
          "base_uri": "https://localhost:8080/"
        },
        "id": "bk7b2zat27n4",
        "outputId": "fbbcc277-1761-4b2c-dc10-63c3c26b5187"
      },
      "source": [
        "#Problema 3.8\r\n",
        "num=int(input(\"Ingrese un número entero positivo: \"))\r\n",
        "if num>0:\r\n",
        "  while (num !=1):\r\n",
        "    print(num)\r\n",
        "    if ((-1)**num) > 0:\r\n",
        "      num=num/2\r\n",
        "    else:\r\n",
        "      num=num*3+1\r\n",
        "  print(f\"{num}\")\r\n",
        "else:\r\n",
        "  print(\"El número tiene que ser entero positivo\")"
      ],
      "execution_count": null,
      "outputs": [
        {
          "output_type": "stream",
          "text": [
            "Ingrese un número entero positivo: 25\n",
            "25\n",
            "76\n",
            "38.0\n",
            "19.0\n",
            "58.0\n",
            "29.0\n",
            "88.0\n",
            "44.0\n",
            "22.0\n",
            "11.0\n",
            "34.0\n",
            "17.0\n",
            "52.0\n",
            "26.0\n",
            "13.0\n",
            "40.0\n",
            "20.0\n",
            "10.0\n",
            "5.0\n",
            "16.0\n",
            "8.0\n",
            "4.0\n",
            "2.0\n",
            "1.0\n"
          ],
          "name": "stdout"
        }
      ]
    },
    {
      "cell_type": "code",
      "metadata": {
        "colab": {
          "base_uri": "https://localhost:8080/"
        },
        "id": "SuM43Z--6ijw",
        "outputId": "59402dd8-c654-402f-e1df-5443662af837"
      },
      "source": [
        "#Problema 3.9\r\n",
        "serie=0\r\n",
        "n=int(input(\"Ingrese un número entero: \"))\r\n",
        "I=1\r\n",
        "while I<=n:\r\n",
        "  serie=serie+I**I\r\n",
        "  I=I+1\r\n",
        "  print(f\"{I} - {serie}\")\r\n"
      ],
      "execution_count": null,
      "outputs": [
        {
          "output_type": "stream",
          "text": [
            "Ingrese un número entero: 8\n",
            "2 - 1\n",
            "3 - 5\n",
            "4 - 32\n",
            "5 - 288\n",
            "6 - 3413\n",
            "7 - 50069\n",
            "8 - 873612\n",
            "9 - 17650828\n"
          ],
          "name": "stdout"
        }
      ]
    },
    {
      "cell_type": "code",
      "metadata": {
        "id": "hUs4g0IU1Jx_",
        "colab": {
          "base_uri": "https://localhost:8080/"
        },
        "outputId": "c12f7cb4-3476-454a-acfa-dc45bf9e4e2a"
      },
      "source": [
        "#Problema 3.10\r\n",
        "pri=0\r\n",
        "seg=1\r\n",
        "I=3\r\n",
        "while I<=180:\r\n",
        "  sig=pri+seg\r\n",
        "  pri=seg\r\n",
        "  seg=sig\r\n",
        "  I=I+1\r\n",
        "print(f\"{I} - {pri} - {seg} - {sig}\")"
      ],
      "execution_count": 16,
      "outputs": [
        {
          "output_type": "stream",
          "text": [
            "181 - 7084593923980518516849609894969925639 - 11463113765491467695340528626429782121 - 11463113765491467695340528626429782121\n"
          ],
          "name": "stdout"
        }
      ]
    },
    {
      "cell_type": "code",
      "metadata": {
        "colab": {
          "base_uri": "https://localhost:8080/"
        },
        "id": "N7YCCoHF69Zd",
        "outputId": "1422858a-029d-4045-f8cf-47e695ae87f5"
      },
      "source": [
        "#Problema 3.11\r\n",
        "can1=0\r\n",
        "can2=0\r\n",
        "can3=0\r\n",
        "can4=0\r\n",
        "voto=int(input(\"Ingrese su voto al candidato de su elección: \"))\r\n",
        "while (voto !=0):\r\n",
        "  if voto==1:\r\n",
        "    can1+=1\r\n",
        "  if voto==2:\r\n",
        "    can2+=1\r\n",
        "  if voto==3:\r\n",
        "    can3+=1\r\n",
        "  if voto==4:\r\n",
        "    can4+=1\r\n",
        "  sumv=can1+can2+can3+can4\r\n",
        "  por1=(can1/sumv)*100\r\n",
        "  por2=(can2/sumv)*100\r\n",
        "  por3=(can3/sumv)*100\r\n",
        "  por4=(can4/sumv)*100\r\n",
        "  voto=int(input(\"Ingrese su voto al candidato de su elección: \"))\r\n",
        "print(\"    Candidato       Votos       Porcentaje\")\r\n",
        "print(f\"        1          {can1}           {por1}%\")\r\n",
        "print(f\"        2          {can2}            {por2}%\")\r\n",
        "print(f\"        3          {can3}            {por3}%\")\r\n",
        "print(f\"        4          {can4}            {por4}%\")\r\n",
        "print(f\"Total              {sumv}           100.0%\")"
      ],
      "execution_count": null,
      "outputs": [
        {
          "output_type": "stream",
          "text": [
            "Ingrese su voto al candidato de su elección: 1\n",
            "Ingrese su voto al candidato de su elección: 1\n",
            "Ingrese su voto al candidato de su elección: 2\n",
            "Ingrese su voto al candidato de su elección: 1\n",
            "Ingrese su voto al candidato de su elección: 3\n",
            "Ingrese su voto al candidato de su elección: 1\n",
            "Ingrese su voto al candidato de su elección: 1\n",
            "Ingrese su voto al candidato de su elección: 2\n",
            "Ingrese su voto al candidato de su elección: 4\n",
            "Ingrese su voto al candidato de su elección: 4\n",
            "Ingrese su voto al candidato de su elección: 3\n",
            "Ingrese su voto al candidato de su elección: 1\n",
            "Ingrese su voto al candidato de su elección: 1\n",
            "Ingrese su voto al candidato de su elección: 2\n",
            "Ingrese su voto al candidato de su elección: 3\n",
            "Ingrese su voto al candidato de su elección: 1\n",
            "Ingrese su voto al candidato de su elección: 4\n",
            "Ingrese su voto al candidato de su elección: 1\n",
            "Ingrese su voto al candidato de su elección: 2\n",
            "Ingrese su voto al candidato de su elección: 1\n",
            "Ingrese su voto al candidato de su elección: 2\n",
            "Ingrese su voto al candidato de su elección: 4\n",
            "Ingrese su voto al candidato de su elección: 4\n",
            "Ingrese su voto al candidato de su elección: 2\n",
            "Ingrese su voto al candidato de su elección: 1\n",
            "Ingrese su voto al candidato de su elección: 0\n",
            "    Candidato     Votos       Porcentaje\n",
            "        1          11           44.0%\n",
            "        2          6            24.0%\n",
            "        3          3            12.0%\n",
            "        4          5            20.0%\n",
            "Total              25           100.0%\n"
          ],
          "name": "stdout"
        }
      ]
    },
    {
      "cell_type": "code",
      "metadata": {
        "id": "YhliqtcqhxiD",
        "colab": {
          "base_uri": "https://localhost:8080/"
        },
        "outputId": "e8738bbc-bb98-4322-fbb7-a2129d8bb5b2"
      },
      "source": [
        "#Problema 3.12\r\n",
        "masue=0\r\n",
        "I=1\r\n",
        "n=int(input(\"Ingrese el número de empleados que se encuentran en la empresa: \"))\r\n",
        "while (I<=n):\r\n",
        "  numemp=int(input(\"Ingrese el número del empleado: \"))\r\n",
        "  sue=float(input(\"Ingrese el sueldo del empleado: $\"))\r\n",
        "  while (sue>masue):\r\n",
        "    masue=sue\r\n",
        "    manum=numemp\r\n",
        "  I=I+1\r\n",
        "print(\"_____________________________________\")\r\n",
        "print(f\"El mayor sueldo es: ${masue}\")\r\n",
        "print(f\"El mayor número es: {manum}\")"
      ],
      "execution_count": null,
      "outputs": [
        {
          "output_type": "stream",
          "text": [
            "Ingrese el número de empleados que se encuentran en la empresa: 6\n",
            "Ingrese el número del empleado: 1235\n",
            "Ingrese el sueldo del empleado: $2580\n",
            "Ingrese el número del empleado: 1260\n",
            "Ingrese el sueldo del empleado: $1400\n",
            "Ingrese el número del empleado: 1325\n",
            "Ingrese el sueldo del empleado: $3600\n",
            "Ingrese el número del empleado: 1418\n",
            "Ingrese el sueldo del empleado: $2720\n",
            "Ingrese el número del empleado: 1650\n",
            "Ingrese el sueldo del empleado: $4120\n",
            "Ingrese el número del empleado: 1717\n",
            "Ingrese el sueldo del empleado: $1950\n",
            "_____________________________________\n",
            "El mayor sueldo es: $4120.0\n",
            "El mayor número es: 1650\n"
          ],
          "name": "stdout"
        }
      ]
    },
    {
      "cell_type": "code",
      "metadata": {
        "id": "evFSAKSytpeI",
        "colab": {
          "base_uri": "https://localhost:8080/"
        },
        "outputId": "4c536155-f1a2-49fa-f89c-542c5dee6152"
      },
      "source": [
        "#Problema 3.13\r\n",
        "arsu=0\r\n",
        "arno=0\r\n",
        "arce=0\r\n",
        "mersu=50000\r\n",
        "I=1\r\n",
        "while I<=12:\r\n",
        "  rno=float(input(\"Ingrese las lluvias caídas en la región norte: \"))\r\n",
        "  rce=float(input(\"Ingrese las lluvias caídas en la región centro: \"))\r\n",
        "  rsu=float(input(\"Ingrese las lluvias caídas en la región sur: \"))\r\n",
        "  arno=arno+rno\r\n",
        "  arce=arce+rce\r\n",
        "  arsu=arsu+rsu\r\n",
        "  while rsu<mersu:\r\n",
        "    mersu=rsu\r\n",
        "    mes=I\r\n",
        "  I=I+1\r\n",
        "prorce=arce/12\r\n",
        "print(f\"El promedio de la región centro es: {prorce}\")\r\n",
        "print(f\"El mes con menor lluvia de la región sur es: {mes}\")\r\n",
        "print(f\"El registro del mes es: {mersu}\")\r\n",
        "if arno>arce:\r\n",
        "  if arno>arsu:\r\n",
        "    print(\"La región con mayor lluvia es la región norte\")\r\n",
        "  else:\r\n",
        "    print(\"La región con mayor lluvia es la región sur\")\r\n",
        "else:\r\n",
        "  if arce>arsu:\r\n",
        "    print(\"La región con mayor lluvia es la región centro\")\r\n",
        "  else:\r\n",
        "    print(\"La región con mayor lluvia es la región sur\")"
      ],
      "execution_count": null,
      "outputs": [
        {
          "output_type": "stream",
          "text": [
            "Ingrese las lluvias caídas en la región norte: 80\n",
            "Ingrese las lluvias caídas en la región centro: 70\n",
            "Ingrese las lluvias caídas en la región sur: 170\n",
            "Ingrese las lluvias caídas en la región norte: 60\n",
            "Ingrese las lluvias caídas en la región centro: 85\n",
            "Ingrese las lluvias caídas en la región sur: 100\n",
            "Ingrese las lluvias caídas en la región norte: 120\n",
            "Ingrese las lluvias caídas en la región centro: 100\n",
            "Ingrese las lluvias caídas en la región sur: 185\n",
            "Ingrese las lluvias caídas en la región norte: 100\n",
            "Ingrese las lluvias caídas en la región centro: 90\n",
            "Ingrese las lluvias caídas en la región sur: 88\n",
            "Ingrese las lluvias caídas en la región norte: 70\n",
            "Ingrese las lluvias caídas en la región centro: 82\n",
            "Ingrese las lluvias caídas en la región sur: 80\n",
            "Ingrese las lluvias caídas en la región norte: 150\n",
            "Ingrese las lluvias caídas en la región centro: 130\n",
            "Ingrese las lluvias caídas en la región sur: 122\n",
            "Ingrese las lluvias caídas en la región norte: 100\n",
            "Ingrese las lluvias caídas en la región centro: 95\n",
            "Ingrese las lluvias caídas en la región sur: 67\n",
            "Ingrese las lluvias caídas en la región norte: 47\n",
            "Ingrese las lluvias caídas en la región centro: 38\n",
            "Ingrese las lluvias caídas en la región sur: 55\n",
            "Ingrese las lluvias caídas en la región norte: 95\n",
            "Ingrese las lluvias caídas en la región centro: 115\n",
            "Ingrese las lluvias caídas en la región sur: 110\n",
            "Ingrese las lluvias caídas en la región norte: 70\n",
            "Ingrese las lluvias caídas en la región centro: 62\n",
            "Ingrese las lluvias caídas en la región sur: 83\n",
            "Ingrese las lluvias caídas en la región norte: 100\n",
            "Ingrese las lluvias caídas en la región centro: 87\n",
            "Ingrese las lluvias caídas en la región sur: 107\n",
            "Ingrese las lluvias caídas en la región norte: 130\n",
            "Ingrese las lluvias caídas en la región centro: 103\n",
            "Ingrese las lluvias caídas en la región sur: 148\n",
            "El promedio de la región centro es: 88.08333333333333\n",
            "El mes con menor lluvia de la región sur es: 8\n",
            "El registro del mes es: 55.0\n",
            "La región con mayor lluvia es la región sur\n"
          ],
          "name": "stdout"
        }
      ]
    },
    {
      "cell_type": "code",
      "metadata": {
        "colab": {
          "base_uri": "https://localhost:8080/"
        },
        "id": "5aGdDCrCa1YB",
        "outputId": "f983ff01-f15c-4448-de98-8c5bc4793bcc"
      },
      "source": [
        "#Problema 3.14\r\n",
        "ap1=0\r\n",
        "ap2=0\r\n",
        "ap3=0\r\n",
        "ap4=0\r\n",
        "ap5=0\r\n",
        "recau=0\r\n",
        "p1=float(input(\"Ingrese el precio de la localidad 1: $\"))\r\n",
        "p2=float(input(\"Ingrese el precio de la localidad 2: $\"))\r\n",
        "p3=float(input(\"Ingrese el precio de la localidad 3: $\"))\r\n",
        "p4=float(input(\"Ingrese el precio de la localidad 4: $\"))\r\n",
        "p5=float(input(\"Ingrese el precio de la localidad 5: $\"))\r\n",
        "clave=int(input(\"Ingrese el tipo de localidad de su preferencia: \"))\r\n",
        "cant=int(input(\"Ingrese la cantidad de boletos que desea: \"))\r\n",
        "while clave !=-1 and cant !=-1:\r\n",
        "  if clave==1:\r\n",
        "    pre=p1*cant\r\n",
        "    ap1+=cant\r\n",
        "  if clave==2:\r\n",
        "    pre=p2*cant\r\n",
        "    ap2+=cant\r\n",
        "  if clave==3:\r\n",
        "    pre=p3*cant\r\n",
        "    ap3+=cant\r\n",
        "  if clave==4:\r\n",
        "    pre=p4*cant\r\n",
        "    ap4+=cant\r\n",
        "  if clave==5:\r\n",
        "    pre=p5*cant\r\n",
        "    ap5+=cant\r\n",
        "  print(\"_______________________________________\")\r\n",
        "  print(f\"Tipo de localidad: {clave}\")\r\n",
        "  print(f\"Cantidad de boletos: {cant}\")\r\n",
        "  print(f\"Precio total: ${pre}\")\r\n",
        "  print(\"_______________________________________\")\r\n",
        "  recau+=pre\r\n",
        "  clave=int(input(\"Ingrese el tipo de localidad de su preferencia: \"))\r\n",
        "  cant=int(input(\"Ingrese la cantidad de boletos que desea: \"))\r\n",
        "print(f\"Cantidad de boletos tipo 1: {ap1}\")\r\n",
        "print(f\"Cantidad de boletos tipo 2: {ap2}\")\r\n",
        "print(f\"Cantidad de boletos tipo 3: {ap3}\")\r\n",
        "print(f\"Cantidad de boletos tipo 4: {ap4}\")\r\n",
        "print(f\"Cantidad de boletos tipo 5: {ap5}\")\r\n",
        "print(f\"Recaudación del estado: ${recau}\")"
      ],
      "execution_count": null,
      "outputs": [
        {
          "output_type": "stream",
          "text": [
            "Ingrese el precio de la localidad 1: $7.25\n",
            "Ingrese el precio de la localidad 2: $15.80\n",
            "Ingrese el precio de la localidad 3: $25.00\n",
            "Ingrese el precio de la localidad 4: $50.00\n",
            "Ingrese el precio de la localidad 5: $75.00\n",
            "Ingrese el tipo de localidad de su preferencia: 2\n",
            "Ingrese la cantidad de boletos que desea: 3\n",
            "_______________________________________\n",
            "Tipo de localidad: 2\n",
            "Cantidad de boletos: 3\n",
            "Precio total: $47.400000000000006\n",
            "_______________________________________\n",
            "Ingrese el tipo de localidad de su preferencia: 3\n",
            "Ingrese la cantidad de boletos que desea: 8\n",
            "_______________________________________\n",
            "Tipo de localidad: 3\n",
            "Cantidad de boletos: 8\n",
            "Precio total: $200.0\n",
            "_______________________________________\n",
            "Ingrese el tipo de localidad de su preferencia: 2\n",
            "Ingrese la cantidad de boletos que desea: 4\n",
            "_______________________________________\n",
            "Tipo de localidad: 2\n",
            "Cantidad de boletos: 4\n",
            "Precio total: $63.2\n",
            "_______________________________________\n",
            "Ingrese el tipo de localidad de su preferencia: 1\n",
            "Ingrese la cantidad de boletos que desea: 6\n",
            "_______________________________________\n",
            "Tipo de localidad: 1\n",
            "Cantidad de boletos: 6\n",
            "Precio total: $43.5\n",
            "_______________________________________\n",
            "Ingrese el tipo de localidad de su preferencia: 4\n",
            "Ingrese la cantidad de boletos que desea: 5\n",
            "_______________________________________\n",
            "Tipo de localidad: 4\n",
            "Cantidad de boletos: 5\n",
            "Precio total: $250.0\n",
            "_______________________________________\n",
            "Ingrese el tipo de localidad de su preferencia: 1\n",
            "Ingrese la cantidad de boletos que desea: 12\n",
            "_______________________________________\n",
            "Tipo de localidad: 1\n",
            "Cantidad de boletos: 12\n",
            "Precio total: $87.0\n",
            "_______________________________________\n",
            "Ingrese el tipo de localidad de su preferencia: 2\n",
            "Ingrese la cantidad de boletos que desea: 8\n",
            "_______________________________________\n",
            "Tipo de localidad: 2\n",
            "Cantidad de boletos: 8\n",
            "Precio total: $126.4\n",
            "_______________________________________\n",
            "Ingrese el tipo de localidad de su preferencia: 5\n",
            "Ingrese la cantidad de boletos que desea: 3\n",
            "_______________________________________\n",
            "Tipo de localidad: 5\n",
            "Cantidad de boletos: 3\n",
            "Precio total: $225.0\n",
            "_______________________________________\n",
            "Ingrese el tipo de localidad de su preferencia: 2\n",
            "Ingrese la cantidad de boletos que desea: 7\n",
            "_______________________________________\n",
            "Tipo de localidad: 2\n",
            "Cantidad de boletos: 7\n",
            "Precio total: $110.60000000000001\n",
            "_______________________________________\n",
            "Ingrese el tipo de localidad de su preferencia: 3\n",
            "Ingrese la cantidad de boletos que desea: 14\n",
            "_______________________________________\n",
            "Tipo de localidad: 3\n",
            "Cantidad de boletos: 14\n",
            "Precio total: $350.0\n",
            "_______________________________________\n",
            "Ingrese el tipo de localidad de su preferencia: 4\n",
            "Ingrese la cantidad de boletos que desea: 1\n",
            "_______________________________________\n",
            "Tipo de localidad: 4\n",
            "Cantidad de boletos: 1\n",
            "Precio total: $50.0\n",
            "_______________________________________\n",
            "Ingrese el tipo de localidad de su preferencia: 2\n",
            "Ingrese la cantidad de boletos que desea: 11\n",
            "_______________________________________\n",
            "Tipo de localidad: 2\n",
            "Cantidad de boletos: 11\n",
            "Precio total: $173.8\n",
            "_______________________________________\n",
            "Ingrese el tipo de localidad de su preferencia: 4\n",
            "Ingrese la cantidad de boletos que desea: 9\n",
            "_______________________________________\n",
            "Tipo de localidad: 4\n",
            "Cantidad de boletos: 9\n",
            "Precio total: $450.0\n",
            "_______________________________________\n",
            "Ingrese el tipo de localidad de su preferencia: 5\n",
            "Ingrese la cantidad de boletos que desea: 7\n",
            "_______________________________________\n",
            "Tipo de localidad: 5\n",
            "Cantidad de boletos: 7\n",
            "Precio total: $525.0\n",
            "_______________________________________\n",
            "Ingrese el tipo de localidad de su preferencia: 1\n",
            "Ingrese la cantidad de boletos que desea: 23\n",
            "_______________________________________\n",
            "Tipo de localidad: 1\n",
            "Cantidad de boletos: 23\n",
            "Precio total: $166.75\n",
            "_______________________________________\n",
            "Ingrese el tipo de localidad de su preferencia: 1\n",
            "Ingrese la cantidad de boletos que desea: 18\n",
            "_______________________________________\n",
            "Tipo de localidad: 1\n",
            "Cantidad de boletos: 18\n",
            "Precio total: $130.5\n",
            "_______________________________________\n",
            "Ingrese el tipo de localidad de su preferencia: 3\n",
            "Ingrese la cantidad de boletos que desea: 4\n",
            "_______________________________________\n",
            "Tipo de localidad: 3\n",
            "Cantidad de boletos: 4\n",
            "Precio total: $100.0\n",
            "_______________________________________\n",
            "Ingrese el tipo de localidad de su preferencia: -1\n",
            "Ingrese la cantidad de boletos que desea: -1\n",
            "Cantidad de boletos tipo 1: 59\n",
            "Cantidad de boletos tipo 2: 33\n",
            "Cantidad de boletos tipo 3: 26\n",
            "Cantidad de boletos tipo 4: 15\n",
            "Cantidad de boletos tipo 5: 10\n",
            "Recaudación del estado: $3099.1499999999996\n"
          ],
          "name": "stdout"
        }
      ]
    },
    {
      "cell_type": "code",
      "metadata": {
        "id": "VqK5UtX0lIEE",
        "colab": {
          "base_uri": "https://localhost:8080/"
        },
        "outputId": "8e981e0f-3e70-4ad2-abba-5e5e8a7d81fe"
      },
      "source": [
        "#Problema 3.15\r\n",
        "cl=0\r\n",
        "cuenta=0\r\n",
        "tipo=(input(\"Ingrese el tipo de llamada: \"))\r\n",
        "dur=int(input(\"Ingrese los minutos que duro la llamada: \"))\r\n",
        "while tipo !=\"X\" and dur !=-1:\r\n",
        "  if tipo==\"I\":\r\n",
        "    if dur>3:\r\n",
        "      costo=7.59+(dur-3)*3.03\r\n",
        "    else:\r\n",
        "      costo=7.59\r\n",
        "  if tipo==\"L\":\r\n",
        "    cl+=1\r\n",
        "    if cl>50:\r\n",
        "      costo=0.60\r\n",
        "    else:\r\n",
        "      costo=0\r\n",
        "  if tipo==\"N\":\r\n",
        "    if dur>3:\r\n",
        "      costo=1.20+(dur-3)*0.48\r\n",
        "    else:\r\n",
        "      costo=1.20\r\n",
        "  cuenta+=costo\r\n",
        "  tipo=(input(\"Ingrese el tipo de llamada: \"))\r\n",
        "  dur=int(input(\"Ingrese los minutos que duro la llamada: \"))\r\n",
        "print(f\"El total de las llamadas es: ${cuenta}\")"
      ],
      "execution_count": null,
      "outputs": [
        {
          "output_type": "stream",
          "text": [
            "Ingrese el tipo de llamada: I\n",
            "Ingrese los minutos que duro la llamada: 7\n",
            "Ingrese el tipo de llamada: N\n",
            "Ingrese los minutos que duro la llamada: 6\n",
            "Ingrese el tipo de llamada: N\n",
            "Ingrese los minutos que duro la llamada: 12\n",
            "Ingrese el tipo de llamada: L\n",
            "Ingrese los minutos que duro la llamada: 5\n",
            "Ingrese el tipo de llamada: L\n",
            "Ingrese los minutos que duro la llamada: 7\n",
            "Ingrese el tipo de llamada: L\n",
            "Ingrese los minutos que duro la llamada: 15\n",
            "Ingrese el tipo de llamada: N\n",
            "Ingrese los minutos que duro la llamada: 16\n",
            "Ingrese el tipo de llamada: L\n",
            "Ingrese los minutos que duro la llamada: 7\n",
            "Ingrese el tipo de llamada: L\n",
            "Ingrese los minutos que duro la llamada: 6\n",
            "Ingrese el tipo de llamada: L\n",
            "Ingrese los minutos que duro la llamada: 4\n",
            "Ingrese el tipo de llamada: I\n",
            "Ingrese los minutos que duro la llamada: 11\n",
            "Ingrese el tipo de llamada: X\n",
            "Ingrese los minutos que duro la llamada: -1\n",
            "El total de las llamadas es: $67.14\n"
          ],
          "name": "stdout"
        }
      ]
    },
    {
      "cell_type": "code",
      "metadata": {
        "id": "jctHqGua6vDN",
        "colab": {
          "base_uri": "https://localhost:8080/"
        },
        "outputId": "30dbc603-f04a-4d03-9cac-76e338633727"
      },
      "source": [
        "#Problema 3.16\r\n",
        "tipo1=0\r\n",
        "tipo2=0\r\n",
        "tipo3=0\r\n",
        "tipo4=0\r\n",
        "tipo5=0\r\n",
        "mctipo2=0\r\n",
        "I=1\r\n",
        "n=int(input(\"Ingrese los años sobre los que se obtendrá la información: \"))\r\n",
        "while I<=n:\r\n",
        "  J=1\r\n",
        "  totvin=0\r\n",
        "  while J<=5:\r\n",
        "    v=float(input(\"Ingrese la cantidad de litros de vino: \"))\r\n",
        "    totvin+=v\r\n",
        "    if J==1:\r\n",
        "      tipo1+=v\r\n",
        "    if J==2:\r\n",
        "      tipo2+=v\r\n",
        "      while v>mctipo2:\r\n",
        "        mctipo2=v\r\n",
        "        año=I\r\n",
        "    if J==3:\r\n",
        "      tipo3+=v\r\n",
        "      if v==0:\r\n",
        "        print(f\"El año {I} no se produjo vino tipo 3\")\r\n",
        "    if J==4:\r\n",
        "      tipo4+=v\r\n",
        "    if J==5:\r\n",
        "      tipo5+=v\r\n",
        "    J=J+1\r\n",
        "  I=I+1\r\n",
        "  print(f\"El total de litros de vino producidos en el año es: {totvin}\")\r\n",
        "total=tipo1+tipo2+tipo3+tipo4+tipo5\r\n",
        "print(f\"Total de vino tipo 1: {tipo1} litros.\")\r\n",
        "print(f\"Total de vino tipo 2: {tipo2} litros.\")\r\n",
        "print(f\"Total de vino tipo 3: {tipo3} litros.\")\r\n",
        "print(f\"Total de vino tipo 4: {tipo4} litros.\")\r\n",
        "print(f\"Total de vino tipo 5: {tipo5} litros.\")\r\n",
        "print(f\"El total de los 5 tipos de vinos en {n} años es {total} litros.\")\r\n",
        "print(f\"El año en que se produjo mayor cantidad de vino tipo 2 fue {año} con {mctipo2} litros.\")"
      ],
      "execution_count": null,
      "outputs": [
        {
          "output_type": "stream",
          "text": [
            "Ingrese los años sobre los que se obtendrá la información: 3\n",
            "Ingrese la cantidad de litros de vino: 543\n",
            "Ingrese la cantidad de litros de vino: 965\n",
            "Ingrese la cantidad de litros de vino: 654\n",
            "Ingrese la cantidad de litros de vino: 765\n",
            "Ingrese la cantidad de litros de vino: 345\n",
            "El total de litros de vino producidos en el año es: 3272.0\n",
            "Ingrese la cantidad de litros de vino: 234\n",
            "Ingrese la cantidad de litros de vino: 765\n",
            "Ingrese la cantidad de litros de vino: 0\n",
            "El año 2 no se produjo vino tipo 3\n",
            "Ingrese la cantidad de litros de vino: 543\n",
            "Ingrese la cantidad de litros de vino: 986\n",
            "El total de litros de vino producidos en el año es: 2528.0\n",
            "Ingrese la cantidad de litros de vino: 345\n",
            "Ingrese la cantidad de litros de vino: 765\n",
            "Ingrese la cantidad de litros de vino: 342\n",
            "Ingrese la cantidad de litros de vino: 167\n",
            "Ingrese la cantidad de litros de vino: 833\n",
            "El total de litros de vino producidos en el año es: 2452.0\n",
            "Total de vino tipo 1: 1122.0 litros.\n",
            "Total de vino tipo 2: 2495.0 litros.\n",
            "Total de vino tipo 3: 996.0 litros.\n",
            "Total de vino tipo 4: 1475.0 litros.\n",
            "Total de vino tipo 5: 2164.0 litros.\n",
            "El total de los 5 tipos de vinos en 3 años es 8252.0 litros.\n",
            "El año en que se produjo mayor cantidad de vino tipo 2 fue 1 con 965.0 litros.\n"
          ],
          "name": "stdout"
        }
      ]
    },
    {
      "cell_type": "code",
      "metadata": {
        "id": "TcWqr4pozWd8"
      },
      "source": [
        "#Problema 3.17\r\n",
        "I=3\r\n",
        "sp=0\r\n",
        "m=int(input(\"Ingrese un número: \"))\r\n",
        "while m>=1:\r\n",
        "  sp+=1\r\n",
        "  print(\"Número primo\",1)\r\n",
        "  while m>=2:\r\n",
        "    sp+=1\r\n",
        "    print(\"Número primo\",2)\r\n",
        "while I<=m:\r\n",
        "  band=True\r\n",
        "  J=3\r\n",
        "  while J<(I/2) and band==True:\r\n",
        "    while (I%J==0):\r\n",
        "      band=False\r\n",
        "      J=J+2\r\n",
        "  while band==True :\r\n",
        "    print(f\"Número primo: {I}\")\r\n",
        "    sp+=1\r\n",
        "    I=I+2\r\n",
        "print(f\"Entre el número 1 y el {m} hay {sp} números primos\")"
      ],
      "execution_count": null,
      "outputs": []
    },
    {
      "cell_type": "code",
      "metadata": {
        "id": "hgDFYb22zEq3"
      },
      "source": [
        "#Problema 3.18\r\n",
        "maypro=0\r\n",
        "n=int(input(\"Ingrese el número de fábricas registradas en la Secretaría de Industrias: \"))\r\n",
        "if n<=100:\r\n",
        "  I=1\r\n",
        "  while I<=n:\r\n",
        "    fab=int(input(\"Ingrese la clave de la fábrica: \"))\r\n",
        "    totanu=0\r\n",
        "    J=1\r\n",
        "    while J<=12:\r\n",
        "      mes=float(input(\"Ingrese la producción de la fábrica en el mes: \"))\r\n",
        "      totanu+=mes\r\n",
        "    while J==7 and mes>3000000:\r\n",
        "      print(\"Las fábricas cuya producción en el mes de julio supero los 3000000:\")\r\n",
        "      print(fab)\r\n",
        "      J=J+1\r\n",
        "    while totanu>maypro:\r\n",
        "      maypro=totanu\r\n",
        "      clave=fabrica\r\n",
        "      print(f\"Producción anual fábrica {fab} es ${totanu}\")\r\n",
        "      I=I+1\r\n",
        "  print(f\"La fabrica que más produjo en el año {clave} con una producción de ${maypro}\")\r\n",
        "else:\r\n",
        "  print(\"Error en número de fabricas\")"
      ],
      "execution_count": null,
      "outputs": []
    },
    {
      "cell_type": "code",
      "metadata": {
        "id": "_4zMlgukM0uU"
      },
      "source": [
        "#Problema 3.19\r\n",
        "n=int(input(\"Ingrese un número entero: \"))\r\n",
        "I=1\r\n",
        "while I<=n:\r\n",
        "  sum=0\r\n",
        "  j=1\r\n",
        "  while j<=(I/2):\r\n",
        "    while I%j==0:\r\n",
        "      sum+=j\r\n",
        "      j=j+1\r\n",
        "  while sum==I:\r\n",
        "    print(f\"{I} es un número perfecto\")\r\n",
        "    I=I+1"
      ],
      "execution_count": null,
      "outputs": []
    }
  ]
}