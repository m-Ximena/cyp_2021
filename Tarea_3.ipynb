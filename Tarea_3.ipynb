{
  "nbformat": 4,
  "nbformat_minor": 0,
  "metadata": {
    "colab": {
      "name": "Tarea 3.ipynb",
      "provenance": [],
      "authorship_tag": "ABX9TyMAFEMfLx0ilehiFnKv/hga",
      "include_colab_link": true
    },
    "kernelspec": {
      "name": "python3",
      "display_name": "Python 3"
    }
  },
  "cells": [
    {
      "cell_type": "markdown",
      "metadata": {
        "id": "view-in-github",
        "colab_type": "text"
      },
      "source": [
        "<a href=\"https://colab.research.google.com/github/m-Ximena/cyp_2021/blob/main/Tarea_3.ipynb\" target=\"_parent\"><img src=\"https://colab.research.google.com/assets/colab-badge.svg\" alt=\"Open In Colab\"/></a>"
      ]
    },
    {
      "cell_type": "code",
      "metadata": {
        "colab": {
          "base_uri": "https://localhost:8080/"
        },
        "id": "rf87v19V319_",
        "outputId": "cc089878-b281-43b4-f3cb-378c4790c41f"
      },
      "source": [
        "#Problema 1.1 \n",
        "PREPRO= 0 \n",
        "PAGO= 0\n",
        "DEVO= 0 \n",
        "\n",
        "PREPRO=float(input(\"Ingrese el costo del artículo vendido = $\"))\n",
        "PAGO=float(input(\"Ingrese la cantidad de dinero entregado por el cliente = $\"))\n",
        "DEVO=PAGO-PREPRO\n",
        "\n",
        "print(f\"El cambio a devolver es ${DEVO}\")"
      ],
      "execution_count": null,
      "outputs": [
        {
          "output_type": "stream",
          "text": [
            "Ingrese el costo del artículo vendido = $4.86\n",
            "Ingrese la cantidad de dinero entregado por el cliente = $50\n",
            "El cambio a devolver es $45.14\n"
          ],
          "name": "stdout"
        }
      ]
    },
    {
      "cell_type": "code",
      "metadata": {
        "colab": {
          "base_uri": "https://localhost:8080/"
        },
        "id": "uEOQe49H6CGj",
        "outputId": "588b4c77-30d3-4a36-83d3-aa400a221a5e"
      },
      "source": [
        "#Problema 1.2\n",
        "BASE=0\n",
        "ALTURA=0\n",
        "SUP=0\n",
        "\n",
        "BASE=float(input(\"Ingrese la base del triángulo = \"))\n",
        "ALTURA=float(input(\"Ingrese la altura del trángulo = \"))\n",
        "SUP=BASE*ALTURA/2\n",
        "\n",
        "print(f\"La superficie del triángulo es de {SUP}\")"
      ],
      "execution_count": null,
      "outputs": [
        {
          "output_type": "stream",
          "text": [
            "Ingrese la base del triángulo = 11.60\n",
            "Ingrese la altura del trángulo = 7.40\n",
            "La superficie del triángulo es de 42.92\n"
          ],
          "name": "stdout"
        }
      ]
    },
    {
      "cell_type": "code",
      "metadata": {
        "colab": {
          "base_uri": "https://localhost:8080/"
        },
        "id": "GeRJoduN8cRX",
        "outputId": "d6ca6b9c-249b-4d6d-aaaa-a4623877598f"
      },
      "source": [
        "#Problema 1.3\n",
        "NOM=0\n",
        "PLIB=0\n",
        "LON=0\n",
        "PTON=0\n",
        "\n",
        "NOM=str(input(\"Ingrese el nombre de un dinosaurio: \"))\n",
        "#El problema primero menciona que se tiene que pedir el peso en libras, pero despues dice que en toneladas asi que lo puse de las dos formas.\n",
        "PLIB=float(input(\"Ingrese el peso del dinosaurio expresado en libras = \")) \n",
        "PTON=float(input(\"Ingrese el peso del dinosaurio expresado en toneladas = \"))\n",
        "LON=float(input(\"Ingrese la longitud del dinoraurio expresado en pies = \"))   \n",
        "PLIB=PLIB/2.2046\n",
        "LON=LON*0.3047\n",
        "PTON=PTON*1000\n",
        "\n",
        "print(\"El dinosaurio \",NOM,\" tiene un peso de \",PLIB,\" kilogramos y una longitud de \",LON,\" metros\") #Libras convertidas a kilogramos.\n",
        "print(\"El dinosaurio \",NOM,\" tiene un peso de \",PTON,\" kilogramos y una longitud de \",LON,\" metros\") #Toneladas convertidas a kilogramos. "
      ],
      "execution_count": null,
      "outputs": [
        {
          "output_type": "stream",
          "text": [
            "Ingrese el nombre de un dinosaurio:  Plateosaurus\n",
            "Ingrese el peso del dinosaurio expresado en libras = 5\n",
            "Ingrese el peso del dinosaurio expresado en toneladas = 5\n",
            "Ingrese la longitud del dinoraurio expresado en pies = 30\n",
            "El dinosaurio   Plateosaurus  tiene un peso de  2.2679851220175995  kilogramos y una longitud de  9.141  metros\n",
            "El dinosaurio   Plateosaurus  tiene un peso de  5000.0  kilogramos y una longitud de  9.141  metros\n"
          ],
          "name": "stdout"
        }
      ]
    },
    {
      "cell_type": "code",
      "metadata": {
        "colab": {
          "base_uri": "https://localhost:8080/"
        },
        "id": "ZFatfCNG1FJY",
        "outputId": "1a5ac2de-897f-427d-d7ea-76b1b1883fb2"
      },
      "source": [
        "#Problema 1.4\n",
        "GAL=0\n",
        "TOT=0\n",
        "LIT=0\n",
        "\n",
        "GAL=float(input(\"Ingresa los galones de gasolina vendidos = \"))\n",
        "LIT=GAL*3.785\n",
        "TOT=LIT*8.20\n",
        "\n",
        "print(\"El total a pagar de \",GAL,\" galones es de $\",TOT)"
      ],
      "execution_count": 12,
      "outputs": [
        {
          "output_type": "stream",
          "text": [
            "Ingresa los galones de gasolina vendidos = 8.40\n",
            "El total a pagar de  8.4  galones es de $ 260.7108\n"
          ],
          "name": "stdout"
        }
      ]
    },
    {
      "cell_type": "code",
      "metadata": {
        "colab": {
          "base_uri": "https://localhost:8080/"
        },
        "id": "8EOCs0xIA-Ys",
        "outputId": "d62b4699-b06d-447e-85e9-dfd0d7a62086"
      },
      "source": [
        "#Problema 1.5\n",
        "RAD=0\n",
        "ALT=0\n",
        "VOL=0\n",
        "ARE=0\n",
        "\n",
        "RAD=float(input(\"Ingrese el radio del cilindro = \"))\n",
        "ALT=float(input(\"Ingrese la altura del cilindro = \"))\n",
        "\n",
        "VOL=3.141592*RAD**2*ALT\n",
        "ARE=2*3.141592*RAD*ALT\n",
        "\n",
        "print(\"El volumen del cilindro es de \",VOL,\" y el área es de \",ARE)"
      ],
      "execution_count": 17,
      "outputs": [
        {
          "output_type": "stream",
          "text": [
            "Ingrese el radio del cilindro = 69.30\n",
            "Ingrese la altura del cilindro = 72.40\n",
            "El volumen del cilindro es de  1092332.405479392  y el área es de  31524.744746880006\n"
          ],
          "name": "stdout"
        }
      ]
    },
    {
      "cell_type": "code",
      "metadata": {
        "colab": {
          "base_uri": "https://localhost:8080/"
        },
        "id": "vEf4TCljECLC",
        "outputId": "25c8ff30-db58-446c-d94c-5112cbcfe765"
      },
      "source": [
        "#Problema 1.6\n",
        "DIAS=0\n",
        "SEG=0\n",
        "\n",
        "DIAS=int(input(\"Ingrese el número de días a calcular = \"))\n",
        "SEG=DIAS*86400\n",
        "\n",
        "print(\"En\",DIAS,\"días hay\",SEG,\"segundos.\")"
      ],
      "execution_count": 13,
      "outputs": [
        {
          "output_type": "stream",
          "text": [
            "Ingrese el número de días a calcular = 116\n",
            "En 116 días hay 10022400 segundos.\n"
          ],
          "name": "stdout"
        }
      ]
    }
  ]
}